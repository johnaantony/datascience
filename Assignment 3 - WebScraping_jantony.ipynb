{
 "cells": [
  {
   "cell_type": "code",
   "execution_count": 136,
   "metadata": {
    "collapsed": true
   },
   "outputs": [],
   "source": [
    "import requests\n",
    "from lxml import html\n",
    "import numpy\n",
    "import pandas as pd\n",
    "from collections import Counter\n",
    "import string"
   ]
  },
  {
   "cell_type": "markdown",
   "metadata": {},
   "source": [
    "#### Connecting to 'http://news.ycombinator.com/'"
   ]
  },
  {
   "cell_type": "code",
   "execution_count": 2,
   "metadata": {
    "collapsed": false
   },
   "outputs": [
    {
     "data": {
      "text/plain": [
       "<Response [200]>"
      ]
     },
     "execution_count": 2,
     "metadata": {},
     "output_type": "execute_result"
    }
   ],
   "source": [
    "response = requests.get('http://news.ycombinator.com/')\n",
    "response"
   ]
  },
  {
   "cell_type": "code",
   "execution_count": 3,
   "metadata": {
    "collapsed": false
   },
   "outputs": [
    {
     "data": {
      "text/plain": [
       "'<html op=\"news\"><head><meta name=\"referrer\" content=\"origin\"><meta name=\"viewport\" content=\"width=device-width, initial-scale=1.0\"><link rel=\"stylesheet\" type=\"text/css\" href=\"news.css?qteYN9s39JuqPSkaxUEz\">\\n        <link rel=\"shortcut icon\" href=\"favicon.ico\">\\n          <link rel=\"alternate\" type=\"application/rss+xml\" title=\"RSS\" href=\"rss\">\\n        <title>Hacker News</title>\\n      </head><body><center><table id=\"hnmain\" border=\"0\" cellpadding=\"0\" cellspacing=\"0\" width=\"85%\" bgcolor=\"#f6f6ef\">\\n        <tr><td bgcolor=\"#ff6600\"><table border=\"0\" cellpadding=\"0\" cellspacing=\"0\" width=\"100%\" style=\"padding:2px\"><tr><td style=\"width:18px;padding-right:4px\"><a href=\"http://www.ycombinator.com\"><img src=\"y18.gif\" width=\"18\" height=\"18\" style=\"border:1px white solid;\"></a></td>\\n                  <td style=\"line-height:12pt; height:10px;\"><span class=\"pagetop\"><b class=\"hnname\"><a href=\"news\">Hacker News</a></b>\\n              <a href=\"newest\">new</a> | <a href=\"newcomments\">comments</a> | <a href=\"show\">show</a> | <a href=\"ask\">ask</a> | <a href=\"jobs\">jobs</a> | <a href=\"submit\">submit</a>            </span></td><td style=\"text-align:right;padding-right:4px;\"><span class=\"pagetop\">\\n                              <a href=\"login?goto=news\">login</a>\\n                          </span></td>\\n              </tr></table></td></tr>\\n<tr style=\"height:10px\"></tr><tr><td><table border=\"0\" cellpadding=\"0\" cellspacing=\"0\" class=\"itemlist\">\\n              <tr class=\\'athing\\' id=\\'12826946\\'>\\n      <td align=\"right\" valign=\"top\" class=\"title\"><span class=\"rank\">1.</span></td>      <td valign=\"top\" class=\"votelinks\"><center><a id=\\'up_12826946\\' href=\\'vote?id=12826946&amp;how=up&amp;goto=news\\'><div class=\\'votearrow\\' title=\\'upvote\\'></div></a></center></td><td class=\"title\"><a href=\"http://ifixit.org/blog/8510/car-repair-illegal-dmca/\" class=\"storylink\">DMCA exemptions for modifications and research on your vehicle come into effect</a><span class=\"sitebit comhead\"> (<a href=\"from?site=ifixit.org\"><span class=\"sitestr\">ifixit.org</span></a>)</span></td></tr><tr><td colspan=\"2\"></td><td class=\"subtext\">\\n        <span class=\"score\" id=\"score_12826946\">163 points</span> by <a href=\"user?id=rosser\" class=\"hnuser\">rosser</a> <span class=\"age\"><a href=\"item?id=12826946\">5 hours ago</a></span> <span id=\"unv_12826946\"></span> | <a href=\"hide?id=12826946&amp;goto=news\">hide</a> | <a href=\"item?id=12826946\">35&nbsp;comments</a>              </td></tr>\\n      <tr class=\"spacer\" style=\"height:5px\"></tr>\\n                <tr class=\\'athing\\' id=\\'12825996\\'>\\n      <td align=\"right\" valign=\"top\" class=\"title\"><span class=\"rank\">2.</span></td>      <td valign=\"top\" class=\"votelinks\"><center><a id=\\'up_12825996\\' href=\\'vote?id=12825996&amp;how=up&amp;goto=news\\'><div class=\\'votearrow\\' title=\\'upvote\\'></div></a></center></td><td class=\"title\"><a href=\"https://medium.com/i-m-h-o/dont-go-to-art-school-138c5efd45e9#.87guodhbv\" class=\"storylink\">Don\\xe2\\x80\\x99t go to art school (2013)</a><span class=\"sitebit comhead\"> (<a href=\"from?site=medium.com\"><span class=\"sitestr\">medium.com</span></a>)</span></td></tr><tr><td colspan=\"2\"></td><td class=\"subtext\">\\n        <span class=\"score\" id=\"score_12825996\">205 points</span> by <a href=\"user?id=Tomte\" class=\"hnuser\">Tomte</a> <span class=\"age\"><a href=\"item?id=12825996\">8 hours ago</a></span> <span id=\"unv_12825996\"></span> | <a href=\"hide?id=12825996&amp;goto=news\">hide</a> | <a href=\"item?id=12825996\">137&nbsp;comments</a>              </td></tr>\\n      <tr class=\"spacer\" style=\"height:5px\"></tr>\\n                <tr class=\\'athing\\' id=\\'12826521\\'>\\n      <td align=\"right\" valign=\"top\" class=\"title\"><span class=\"rank\">3.</span></td>      <td valign=\"top\" class=\"votelinks\"><center><a id=\\'up_12826521\\' href=\\'vote?id=12826521&amp;how=up&amp;goto=news\\'><div class=\\'votearrow\\' title=\\'upvote\\'></div></a></center></td><td class=\"title\"><a href=\"https://www.microsoft.com/appliedsciences/content/projects/AdaptiveHardware.aspx\" class=\"storylink\">Adaptive Hardware: Context Aware Interfaces (2013)</a><span class=\"sitebit comhead\"> (<a href=\"from?site=microsoft.com\"><span class=\"sitestr\">microsoft.com</span></a>)</span></td></tr><tr><td colspan=\"2\"></td><td class=\"subtext\">\\n        <span class=\"score\" id=\"score_12826521\">85 points</span> by <a href=\"user?id=BorisEm\" class=\"hnuser\">BorisEm</a> <span class=\"age\"><a href=\"item?id=12826521\">6 hours ago</a></span> <span id=\"unv_12826521\"></span> | <a href=\"hide?id=12826521&amp;goto=news\">hide</a> | <a href=\"item?id=12826521\">28&nbsp;comments</a>              </td></tr>\\n      <tr class=\"spacer\" style=\"height:5px\"></tr>\\n                <tr class=\\'athing\\' id=\\'12824478\\'>\\n      <td align=\"right\" valign=\"top\" class=\"title\"><span class=\"rank\">4.</span></td>      <td valign=\"top\" class=\"votelinks\"><center><a id=\\'up_12824478\\' href=\\'vote?id=12824478&amp;how=up&amp;goto=news\\'><div class=\\'votearrow\\' title=\\'upvote\\'></div></a></center></td><td class=\"title\"><a href=\"https://techcrunch.com/2016/10/28/apples-new-intel-driven-macbooks-have-a-secondary-arm-processor-that-runs-touch-id-and-security/\" class=\"storylink\">Intel driven MacBook Pros have secondary ARM processor for Touch ID and security</a><span class=\"sitebit comhead\"> (<a href=\"from?site=techcrunch.com\"><span class=\"sitestr\">techcrunch.com</span></a>)</span></td></tr><tr><td colspan=\"2\"></td><td class=\"subtext\">\\n        <span class=\"score\" id=\"score_12824478\">229 points</span> by <a href=\"user?id=eth0up\" class=\"hnuser\">eth0up</a> <span class=\"age\"><a href=\"item?id=12824478\">12 hours ago</a></span> <span id=\"unv_12824478\"></span> | <a href=\"hide?id=12824478&amp;goto=news\">hide</a> | <a href=\"item?id=12824478\">105&nbsp;comments</a>              </td></tr>\\n      <tr class=\"spacer\" style=\"height:5px\"></tr>\\n                <tr class=\\'athing\\' id=\\'12826886\\'>\\n      <td align=\"right\" valign=\"top\" class=\"title\"><span class=\"rank\">5.</span></td>      <td valign=\"top\" class=\"votelinks\"><center><a id=\\'up_12826886\\' href=\\'vote?id=12826886&amp;how=up&amp;goto=news\\'><div class=\\'votearrow\\' title=\\'upvote\\'></div></a></center></td><td class=\"title\"><a href=\"http://www.nytimes.com/2016/10/30/business/gmo-promise-falls-short.html?hp&amp;action=click&amp;pgtype=Homepage&amp;clickSource=image&amp;module=photo-spot-region&amp;region=top-news&amp;WT.nav=top-news&amp;_r=1&amp;login=facebook\" class=\"storylink\">Doubts About the Promised Bounty of Genetically Modified Crops</a><span class=\"sitebit comhead\"> (<a href=\"from?site=nytimes.com\"><span class=\"sitestr\">nytimes.com</span></a>)</span></td></tr><tr><td colspan=\"2\"></td><td class=\"subtext\">\\n        <span class=\"score\" id=\"score_12826886\">46 points</span> by <a href=\"user?id=paublyrne\" class=\"hnuser\">paublyrne</a> <span class=\"age\"><a href=\"item?id=12826886\">5 hours ago</a></span> <span id=\"unv_12826886\"></span> | <a href=\"hide?id=12826886&amp;goto=news\">hide</a> | <a href=\"item?id=12826886\">38&nbsp;comments</a>              </td></tr>\\n      <tr class=\"spacer\" style=\"height:5px\"></tr>\\n                <tr class=\\'athing\\' id=\\'12824366\\'>\\n      <td align=\"right\" valign=\"top\" class=\"title\"><span class=\"rank\">6.</span></td>      <td valign=\"top\" class=\"votelinks\"><center><a id=\\'up_12824366\\' href=\\'vote?id=12824366&amp;how=up&amp;goto=news\\'><div class=\\'votearrow\\' title=\\'upvote\\'></div></a></center></td><td class=\"title\"><a href=\"http://blog.fosketts.net/2016/10/29/total-nightmare-usb-c-thunderbolt-3/\" class=\"storylink\">Total Nightmare: USB-C and Thunderbolt 3</a><span class=\"sitebit comhead\"> (<a href=\"from?site=fosketts.net\"><span class=\"sitestr\">fosketts.net</span></a>)</span></td></tr><tr><td colspan=\"2\"></td><td class=\"subtext\">\\n        <span class=\"score\" id=\"score_12824366\">650 points</span> by <a href=\"user?id=sfoskett\" class=\"hnuser\">sfoskett</a> <span class=\"age\"><a href=\"item?id=12824366\">12 hours ago</a></span> <span id=\"unv_12824366\"></span> | <a href=\"hide?id=12824366&amp;goto=news\">hide</a> | <a href=\"item?id=12824366\">355&nbsp;comments</a>              </td></tr>\\n      <tr class=\"spacer\" style=\"height:5px\"></tr>\\n                <tr class=\\'athing\\' id=\\'12824212\\'>\\n      <td align=\"right\" valign=\"top\" class=\"title\"><span class=\"rank\">7.</span></td>      <td valign=\"top\" class=\"votelinks\"><center><a id=\\'up_12824212\\' href=\\'vote?id=12824212&amp;how=up&amp;goto=news\\'><div class=\\'votearrow\\' title=\\'upvote\\'></div></a></center></td><td class=\"title\"><a href=\"http://boingboing.net/2014/10/23/thomas-pikettys-capital-in-t-2.html\" class=\"storylink\">Thomas Piketty\\'s Capital in the 21st Century, in 20 minutes [video]</a><span class=\"sitebit comhead\"> (<a href=\"from?site=boingboing.net\"><span class=\"sitestr\">boingboing.net</span></a>)</span></td></tr><tr><td colspan=\"2\"></td><td class=\"subtext\">\\n        <span class=\"score\" id=\"score_12824212\">217 points</span> by <a href=\"user?id=based2\" class=\"hnuser\">based2</a> <span class=\"age\"><a href=\"item?id=12824212\">13 hours ago</a></span> <span id=\"unv_12824212\"></span> | <a href=\"hide?id=12824212&amp;goto=news\">hide</a> | <a href=\"item?id=12824212\">144&nbsp;comments</a>              </td></tr>\\n      <tr class=\"spacer\" style=\"height:5px\"></tr>\\n                <tr class=\\'athing\\' id=\\'12823937\\'>\\n      <td align=\"right\" valign=\"top\" class=\"title\"><span class=\"rank\">8.</span></td>      <td valign=\"top\" class=\"votelinks\"><center><a id=\\'up_12823937\\' href=\\'vote?id=12823937&amp;how=up&amp;goto=news\\'><div class=\\'votearrow\\' title=\\'upvote\\'></div></a></center></td><td class=\"title\"><a href=\"https://github.com/verekia/js-stack-from-scratch\" class=\"storylink\">Step-by-step tutorial to build a modern JavaScript stack from scratch</a><span class=\"sitebit comhead\"> (<a href=\"from?site=github.com\"><span class=\"sitestr\">github.com</span></a>)</span></td></tr><tr><td colspan=\"2\"></td><td class=\"subtext\">\\n        <span class=\"score\" id=\"score_12823937\">217 points</span> by <a href=\"user?id=lobo_tuerto\" class=\"hnuser\">lobo_tuerto</a> <span class=\"age\"><a href=\"item?id=12823937\">14 hours ago</a></span> <span id=\"unv_12823937\"></span> | <a href=\"hide?id=12823937&amp;goto=news\">hide</a> | <a href=\"item?id=12823937\">121&nbsp;comments</a>              </td></tr>\\n      <tr class=\"spacer\" style=\"height:5px\"></tr>\\n                <tr class=\\'athing\\' id=\\'12822124\\'>\\n      <td align=\"right\" valign=\"top\" class=\"title\"><span class=\"rank\">9.</span></td>      <td valign=\"top\" class=\"votelinks\"><center><a id=\\'up_12822124\\' href=\\'vote?id=12822124&amp;how=up&amp;goto=news\\'><div class=\\'votearrow\\' title=\\'upvote\\'></div></a></center></td><td class=\"title\"><a href=\"http://hyperallergic.com/299912/the-photographers-of-1870s-london-who-documented-their-disappearing-city/\" class=\"storylink\">Photographers of 1870s London Documented Their Disappearing City</a><span class=\"sitebit comhead\"> (<a href=\"from?site=hyperallergic.com\"><span class=\"sitestr\">hyperallergic.com</span></a>)</span></td></tr><tr><td colspan=\"2\"></td><td class=\"subtext\">\\n        <span class=\"score\" id=\"score_12822124\">145 points</span> by <a href=\"user?id=brudgers\" class=\"hnuser\">brudgers</a> <span class=\"age\"><a href=\"item?id=12822124\">13 hours ago</a></span> <span id=\"unv_12822124\"></span> | <a href=\"hide?id=12822124&amp;goto=news\">hide</a> | <a href=\"item?id=12822124\">17&nbsp;comments</a>              </td></tr>\\n      <tr class=\"spacer\" style=\"height:5px\"></tr>\\n                <tr class=\\'athing\\' id=\\'12825366\\'>\\n      <td align=\"right\" valign=\"top\" class=\"title\"><span class=\"rank\">10.</span></td>      <td valign=\"top\" class=\"votelinks\"><center><a id=\\'up_12825366\\' href=\\'vote?id=12825366&amp;how=up&amp;goto=news\\'><div class=\\'votearrow\\' title=\\'upvote\\'></div></a></center></td><td class=\"title\"><a href=\"https://frinklang.org\" class=\"storylink\">Frink \\xe2\\x80\\x93 A practical calculating tool and programming language</a><span class=\"sitebit comhead\"> (<a href=\"from?site=frinklang.org\"><span class=\"sitestr\">frinklang.org</span></a>)</span></td></tr><tr><td colspan=\"2\"></td><td class=\"subtext\">\\n        <span class=\"score\" id=\"score_12825366\">72 points</span> by <a href=\"user?id=tosh\" class=\"hnuser\">tosh</a> <span class=\"age\"><a href=\"item?id=12825366\">10 hours ago</a></span> <span id=\"unv_12825366\"></span> | <a href=\"hide?id=12825366&amp;goto=news\">hide</a> | <a href=\"item?id=12825366\">11&nbsp;comments</a>              </td></tr>\\n      <tr class=\"spacer\" style=\"height:5px\"></tr>\\n                <tr class=\\'athing\\' id=\\'12827691\\'>\\n      <td align=\"right\" valign=\"top\" class=\"title\"><span class=\"rank\">11.</span></td>      <td valign=\"top\" class=\"votelinks\"><center><a id=\\'up_12827691\\' href=\\'vote?id=12827691&amp;how=up&amp;goto=news\\'><div class=\\'votearrow\\' title=\\'upvote\\'></div></a></center></td><td class=\"title\"><a href=\"https://twitter.com/mwichary/status/791709895083102209\" class=\"storylink\">Something magical happened to me today, and I wanted to tell you all about it</a><span class=\"sitebit comhead\"> (<a href=\"from?site=twitter.com\"><span class=\"sitestr\">twitter.com</span></a>)</span></td></tr><tr><td colspan=\"2\"></td><td class=\"subtext\">\\n        <span class=\"score\" id=\"score_12827691\">49 points</span> by <a href=\"user?id=prawn\" class=\"hnuser\">prawn</a> <span class=\"age\"><a href=\"item?id=12827691\">2 hours ago</a></span> <span id=\"unv_12827691\"></span> | <a href=\"hide?id=12827691&amp;goto=news\">hide</a> | <a href=\"item?id=12827691\">14&nbsp;comments</a>              </td></tr>\\n      <tr class=\"spacer\" style=\"height:5px\"></tr>\\n                <tr class=\\'athing\\' id=\\'12824050\\'>\\n      <td align=\"right\" valign=\"top\" class=\"title\"><span class=\"rank\">12.</span></td>      <td valign=\"top\" class=\"votelinks\"><center><a id=\\'up_12824050\\' href=\\'vote?id=12824050&amp;how=up&amp;goto=news\\'><div class=\\'votearrow\\' title=\\'upvote\\'></div></a></center></td><td class=\"title\"><a href=\"http://www.graphicsmagick.org/index.html\" class=\"storylink\">GraphicsMagick Image Processing System</a><span class=\"sitebit comhead\"> (<a href=\"from?site=graphicsmagick.org\"><span class=\"sitestr\">graphicsmagick.org</span></a>)</span></td></tr><tr><td colspan=\"2\"></td><td class=\"subtext\">\\n        <span class=\"score\" id=\"score_12824050\">139 points</span> by <a href=\"user?id=based2\" class=\"hnuser\">based2</a> <span class=\"age\"><a href=\"item?id=12824050\">13 hours ago</a></span> <span id=\"unv_12824050\"></span> | <a href=\"hide?id=12824050&amp;goto=news\">hide</a> | <a href=\"item?id=12824050\">37&nbsp;comments</a>              </td></tr>\\n      <tr class=\"spacer\" style=\"height:5px\"></tr>\\n                <tr class=\\'athing\\' id=\\'12826088\\'>\\n      <td align=\"right\" valign=\"top\" class=\"title\"><span class=\"rank\">13.</span></td>      <td valign=\"top\" class=\"votelinks\"><center><a id=\\'up_12826088\\' href=\\'vote?id=12826088&amp;how=up&amp;goto=news\\'><div class=\\'votearrow\\' title=\\'upvote\\'></div></a></center></td><td class=\"title\"><a href=\"http://www.wix.com/blog/2016/10/dear-matt-mullenweg-an-open-letter-from-wix-coms-ceo-avishai-abrahami/\" class=\"storylink\">Dear Matt Mullenweg: An Open Letter from Wix.com\\xe2\\x80\\x99s CEO Avishai Abrahami</a><span class=\"sitebit comhead\"> (<a href=\"from?site=wix.com\"><span class=\"sitestr\">wix.com</span></a>)</span></td></tr><tr><td colspan=\"2\"></td><td class=\"subtext\">\\n        <span class=\"score\" id=\"score_12826088\">140 points</span> by <a href=\"user?id=yoava\" class=\"hnuser\">yoava</a> <span class=\"age\"><a href=\"item?id=12826088\">7 hours ago</a></span> <span id=\"unv_12826088\"></span> | <a href=\"hide?id=12826088&amp;goto=news\">hide</a> | <a href=\"item?id=12826088\">88&nbsp;comments</a>              </td></tr>\\n      <tr class=\"spacer\" style=\"height:5px\"></tr>\\n                <tr class=\\'athing\\' id=\\'12824631\\'>\\n      <td align=\"right\" valign=\"top\" class=\"title\"><span class=\"rank\">14.</span></td>      <td valign=\"top\" class=\"votelinks\"><center><a id=\\'up_12824631\\' href=\\'vote?id=12824631&amp;how=up&amp;goto=news\\'><div class=\\'votearrow\\' title=\\'upvote\\'></div></a></center></td><td class=\"title\"><a href=\"https://afilias.info/blogs/web-icanns-first-test-accountability\" class=\"storylink\">ICANN\\xe2\\x80\\x99s First Test of Accountability</a><span class=\"sitebit comhead\"> (<a href=\"from?site=afilias.info\"><span class=\"sitestr\">afilias.info</span></a>)</span></td></tr><tr><td colspan=\"2\"></td><td class=\"subtext\">\\n        <span class=\"score\" id=\"score_12824631\">75 points</span> by <a href=\"user?id=ayh\" class=\"hnuser\">ayh</a> <span class=\"age\"><a href=\"item?id=12824631\">11 hours ago</a></span> <span id=\"unv_12824631\"></span> | <a href=\"hide?id=12824631&amp;goto=news\">hide</a> | <a href=\"item?id=12824631\">18&nbsp;comments</a>              </td></tr>\\n      <tr class=\"spacer\" style=\"height:5px\"></tr>\\n                <tr class=\\'athing\\' id=\\'12826863\\'>\\n      <td align=\"right\" valign=\"top\" class=\"title\"><span class=\"rank\">15.</span></td>      <td valign=\"top\" class=\"votelinks\"><center><a id=\\'up_12826863\\' href=\\'vote?id=12826863&amp;how=up&amp;goto=news\\'><div class=\\'votearrow\\' title=\\'upvote\\'></div></a></center></td><td class=\"title\"><a href=\"https://surveillancevalley.net/blog/interview-in-german-magazine-konkret-about-tor-and-the-cult-of-crypto\" class=\"storylink\">Yasha Levine: Interview about Tor, spies and the cult of crypto</a><span class=\"sitebit comhead\"> (<a href=\"from?site=surveillancevalley.net\"><span class=\"sitestr\">surveillancevalley.net</span></a>)</span></td></tr><tr><td colspan=\"2\"></td><td class=\"subtext\">\\n        <span class=\"score\" id=\"score_12826863\">14 points</span> by <a href=\"user?id=brakmic\" class=\"hnuser\">brakmic</a> <span class=\"age\"><a href=\"item?id=12826863\">5 hours ago</a></span> <span id=\"unv_12826863\"></span> | <a href=\"hide?id=12826863&amp;goto=news\">hide</a> | <a href=\"item?id=12826863\">4&nbsp;comments</a>              </td></tr>\\n      <tr class=\"spacer\" style=\"height:5px\"></tr>\\n                <tr class=\\'athing\\' id=\\'12824380\\'>\\n      <td align=\"right\" valign=\"top\" class=\"title\"><span class=\"rank\">16.</span></td>      <td valign=\"top\" class=\"votelinks\"><center><a id=\\'up_12824380\\' href=\\'vote?id=12824380&amp;how=up&amp;goto=news\\'><div class=\\'votearrow\\' title=\\'upvote\\'></div></a></center></td><td class=\"title\"><a href=\"https://arxiv.org/abs/1610.08401\" class=\"storylink\">Universal adversarial perturbations</a><span class=\"sitebit comhead\"> (<a href=\"from?site=arxiv.org\"><span class=\"sitestr\">arxiv.org</span></a>)</span></td></tr><tr><td colspan=\"2\"></td><td class=\"subtext\">\\n        <span class=\"score\" id=\"score_12824380\">83 points</span> by <a href=\"user?id=legatus\" class=\"hnuser\">legatus</a> <span class=\"age\"><a href=\"item?id=12824380\">12 hours ago</a></span> <span id=\"unv_12824380\"></span> | <a href=\"hide?id=12824380&amp;goto=news\">hide</a> | <a href=\"item?id=12824380\">29&nbsp;comments</a>              </td></tr>\\n      <tr class=\"spacer\" style=\"height:5px\"></tr>\\n                <tr class=\\'athing\\' id=\\'12824349\\'>\\n      <td align=\"right\" valign=\"top\" class=\"title\"><span class=\"rank\">17.</span></td>      <td valign=\"top\" class=\"votelinks\"><center><a id=\\'up_12824349\\' href=\\'vote?id=12824349&amp;how=up&amp;goto=news\\'><div class=\\'votearrow\\' title=\\'upvote\\'></div></a></center></td><td class=\"title\"><a href=\"http://www.outkickthecoverage.com/espn-loses-621-000-subscribers-worst-month-in-company-history-102916\" class=\"storylink\">ESPN Loses 621,000 Subscribers; Worst Month in Company History</a><span class=\"sitebit comhead\"> (<a href=\"from?site=outkickthecoverage.com\"><span class=\"sitestr\">outkickthecoverage.com</span></a>)</span></td></tr><tr><td colspan=\"2\"></td><td class=\"subtext\">\\n        <span class=\"score\" id=\"score_12824349\">286 points</span> by <a href=\"user?id=kelukelugames\" class=\"hnuser\">kelukelugames</a> <span class=\"age\"><a href=\"item?id=12824349\">12 hours ago</a></span> <span id=\"unv_12824349\"></span> | <a href=\"hide?id=12824349&amp;goto=news\">hide</a> | <a href=\"item?id=12824349\">360&nbsp;comments</a>              </td></tr>\\n      <tr class=\"spacer\" style=\"height:5px\"></tr>\\n                <tr class=\\'athing\\' id=\\'12809857\\'>\\n      <td align=\"right\" valign=\"top\" class=\"title\"><span class=\"rank\">18.</span></td>      <td valign=\"top\" class=\"votelinks\"><center><a id=\\'up_12809857\\' href=\\'vote?id=12809857&amp;how=up&amp;goto=news\\'><div class=\\'votearrow\\' title=\\'upvote\\'></div></a></center></td><td class=\"title\"><a href=\"http://luckypeach.com/the-science-of-eggs/\" class=\"storylink\">The Science of Eggs</a><span class=\"sitebit comhead\"> (<a href=\"from?site=luckypeach.com\"><span class=\"sitestr\">luckypeach.com</span></a>)</span></td></tr><tr><td colspan=\"2\"></td><td class=\"subtext\">\\n        <span class=\"score\" id=\"score_12809857\">39 points</span> by <a href=\"user?id=Hooke\" class=\"hnuser\">Hooke</a> <span class=\"age\"><a href=\"item?id=12809857\">10 hours ago</a></span> <span id=\"unv_12809857\"></span> | <a href=\"hide?id=12809857&amp;goto=news\">hide</a> | <a href=\"item?id=12809857\">13&nbsp;comments</a>              </td></tr>\\n      <tr class=\"spacer\" style=\"height:5px\"></tr>\\n                <tr class=\\'athing\\' id=\\'12824789\\'>\\n      <td align=\"right\" valign=\"top\" class=\"title\"><span class=\"rank\">19.</span></td>      <td valign=\"top\" class=\"votelinks\"><center><a id=\\'up_12824789\\' href=\\'vote?id=12824789&amp;how=up&amp;goto=news\\'><div class=\\'votearrow\\' title=\\'upvote\\'></div></a></center></td><td class=\"title\"><a href=\"http://www.weimag.ch/micha/dc/05_Buss_Strategies%20of%20Human%20Mating.pdf\" class=\"storylink\">Strategies of Human Mating (2006) [pdf]</a><span class=\"sitebit comhead\"> (<a href=\"from?site=weimag.ch\"><span class=\"sitestr\">weimag.ch</span></a>)</span></td></tr><tr><td colspan=\"2\"></td><td class=\"subtext\">\\n        <span class=\"score\" id=\"score_12824789\">83 points</span> by <a href=\"user?id=networked\" class=\"hnuser\">networked</a> <span class=\"age\"><a href=\"item?id=12824789\">11 hours ago</a></span> <span id=\"unv_12824789\"></span> | <a href=\"hide?id=12824789&amp;goto=news\">hide</a> | <a href=\"item?id=12824789\">33&nbsp;comments</a>              </td></tr>\\n      <tr class=\"spacer\" style=\"height:5px\"></tr>\\n                <tr class=\\'athing\\' id=\\'12826329\\'>\\n      <td align=\"right\" valign=\"top\" class=\"title\"><span class=\"rank\">20.</span></td>      <td valign=\"top\" class=\"votelinks\"><center><a id=\\'up_12826329\\' href=\\'vote?id=12826329&amp;how=up&amp;goto=news\\'><div class=\\'votearrow\\' title=\\'upvote\\'></div></a></center></td><td class=\"title\"><a href=\"http://ritholtz.com/2016/10/seattle-highest-minimum-wage/\" class=\"storylink\">Seattle: Highest Minimum Wage, Lowest Unemployment Rate</a><span class=\"sitebit comhead\"> (<a href=\"from?site=ritholtz.com\"><span class=\"sitestr\">ritholtz.com</span></a>)</span></td></tr><tr><td colspan=\"2\"></td><td class=\"subtext\">\\n        <span class=\"score\" id=\"score_12826329\">91 points</span> by <a href=\"user?id=MaysonL\" class=\"hnuser\">MaysonL</a> <span class=\"age\"><a href=\"item?id=12826329\">7 hours ago</a></span> <span id=\"unv_12826329\"></span> | <a href=\"hide?id=12826329&amp;goto=news\">hide</a> | <a href=\"item?id=12826329\">46&nbsp;comments</a>              </td></tr>\\n      <tr class=\"spacer\" style=\"height:5px\"></tr>\\n                <tr class=\\'athing\\' id=\\'12828003\\'>\\n      <td align=\"right\" valign=\"top\" class=\"title\"><span class=\"rank\">21.</span></td>      <td valign=\"top\" class=\"votelinks\"><center><a id=\\'up_12828003\\' href=\\'vote?id=12828003&amp;how=up&amp;goto=news\\'><div class=\\'votearrow\\' title=\\'upvote\\'></div></a></center></td><td class=\"title\"><a href=\"https://medium.com/js-dojo/vue-js-is-easier-to-learn-than-jquery-abbbb9c12cf8#.9cwt60spf\" class=\"storylink\" rel=\"nofollow\">Is Vue.js easier for a beginner to learn than jQuery?</a><span class=\"sitebit comhead\"> (<a href=\"from?site=medium.com\"><span class=\"sitestr\">medium.com</span></a>)</span></td></tr><tr><td colspan=\"2\"></td><td class=\"subtext\">\\n        <span class=\"score\" id=\"score_12828003\">4 points</span> by <a href=\"user?id=rmason\" class=\"hnuser\">rmason</a> <span class=\"age\"><a href=\"item?id=12828003\">44 minutes ago</a></span> <span id=\"unv_12828003\"></span> | <a href=\"hide?id=12828003&amp;goto=news\">hide</a> | <a href=\"item?id=12828003\">discuss</a>              </td></tr>\\n      <tr class=\"spacer\" style=\"height:5px\"></tr>\\n                <tr class=\\'athing\\' id=\\'12811619\\'>\\n      <td align=\"right\" valign=\"top\" class=\"title\"><span class=\"rank\">22.</span></td>      <td valign=\"top\" class=\"votelinks\"><center><a id=\\'up_12811619\\' href=\\'vote?id=12811619&amp;how=up&amp;goto=news\\'><div class=\\'votearrow\\' title=\\'upvote\\'></div></a></center></td><td class=\"title\"><a href=\"https://www.theguardian.com/books/2016/oct/26/man-booker-prize-winner-paul-beatty-the-sellout-interview\" class=\"storylink\">Turned down 18 times. Then Paul Beatty won the Booker</a><span class=\"sitebit comhead\"> (<a href=\"from?site=theguardian.com\"><span class=\"sitestr\">theguardian.com</span></a>)</span></td></tr><tr><td colspan=\"2\"></td><td class=\"subtext\">\\n        <span class=\"score\" id=\"score_12811619\">37 points</span> by <a href=\"user?id=lermontov\" class=\"hnuser\">lermontov</a> <span class=\"age\"><a href=\"item?id=12811619\">11 hours ago</a></span> <span id=\"unv_12811619\"></span> | <a href=\"hide?id=12811619&amp;goto=news\">hide</a> | <a href=\"item?id=12811619\">6&nbsp;comments</a>              </td></tr>\\n      <tr class=\"spacer\" style=\"height:5px\"></tr>\\n                <tr class=\\'athing\\' id=\\'12824092\\'>\\n      <td align=\"right\" valign=\"top\" class=\"title\"><span class=\"rank\">23.</span></td>      <td valign=\"top\" class=\"votelinks\"><center><a id=\\'up_12824092\\' href=\\'vote?id=12824092&amp;how=up&amp;goto=news\\'><div class=\\'votearrow\\' title=\\'upvote\\'></div></a></center></td><td class=\"title\"><a href=\"https://github.com/6thsolution/EasyMVP\" class=\"storylink\">EasyMVP \\xe2\\x80\\x93 Android library with annotation processing and bytecode weaving</a><span class=\"sitebit comhead\"> (<a href=\"from?site=github.com\"><span class=\"sitestr\">github.com</span></a>)</span></td></tr><tr><td colspan=\"2\"></td><td class=\"subtext\">\\n        <span class=\"score\" id=\"score_12824092\">48 points</span> by <a href=\"user?id=joblack33\" class=\"hnuser\">joblack33</a> <span class=\"age\"><a href=\"item?id=12824092\">13 hours ago</a></span> <span id=\"unv_12824092\"></span> | <a href=\"hide?id=12824092&amp;goto=news\">hide</a> | <a href=\"item?id=12824092\">6&nbsp;comments</a>              </td></tr>\\n      <tr class=\"spacer\" style=\"height:5px\"></tr>\\n                <tr class=\\'athing\\' id=\\'12824098\\'>\\n      <td align=\"right\" valign=\"top\" class=\"title\"><span class=\"rank\">24.</span></td>      <td valign=\"top\" class=\"votelinks\"><center><a id=\\'up_12824098\\' href=\\'vote?id=12824098&amp;how=up&amp;goto=news\\'><div class=\\'votearrow\\' title=\\'upvote\\'></div></a></center></td><td class=\"title\"><a href=\"https://github.com/mbasso/react-decoration/releases/tag/1.3.0\" class=\"storylink\">Show HN: React-decoration \\xe2\\x80\\x93 A collection of decorators for React Components</a><span class=\"sitebit comhead\"> (<a href=\"from?site=github.com\"><span class=\"sitestr\">github.com</span></a>)</span></td></tr><tr><td colspan=\"2\"></td><td class=\"subtext\">\\n        <span class=\"score\" id=\"score_12824098\">36 points</span> by <a href=\"user?id=mbasso\" class=\"hnuser\">mbasso</a> <span class=\"age\"><a href=\"item?id=12824098\">13 hours ago</a></span> <span id=\"unv_12824098\"></span> | <a href=\"hide?id=12824098&amp;goto=news\">hide</a> | <a href=\"item?id=12824098\">5&nbsp;comments</a>              </td></tr>\\n      <tr class=\"spacer\" style=\"height:5px\"></tr>\\n                <tr class=\\'athing\\' id=\\'12821637\\'>\\n      <td align=\"right\" valign=\"top\" class=\"title\"><span class=\"rank\">25.</span></td>      <td valign=\"top\" class=\"votelinks\"><center><a id=\\'up_12821637\\' href=\\'vote?id=12821637&amp;how=up&amp;goto=news\\'><div class=\\'votearrow\\' title=\\'upvote\\'></div></a></center></td><td class=\"title\"><a href=\"http://www.spoon-tamago.com/2016/10/28/hajime-narukawa-authagraph/\" class=\"storylink\">A Map of the World Won Japan\\xe2\\x80\\x99s Prestigious Design Award</a><span class=\"sitebit comhead\"> (<a href=\"from?site=spoon-tamago.com\"><span class=\"sitestr\">spoon-tamago.com</span></a>)</span></td></tr><tr><td colspan=\"2\"></td><td class=\"subtext\">\\n        <span class=\"score\" id=\"score_12821637\">210 points</span> by <a href=\"user?id=igrs\" class=\"hnuser\">igrs</a> <span class=\"age\"><a href=\"item?id=12821637\">17 hours ago</a></span> <span id=\"unv_12821637\"></span> | <a href=\"hide?id=12821637&amp;goto=news\">hide</a> | <a href=\"item?id=12821637\">89&nbsp;comments</a>              </td></tr>\\n      <tr class=\"spacer\" style=\"height:5px\"></tr>\\n                <tr class=\\'athing\\' id=\\'12824186\\'>\\n      <td align=\"right\" valign=\"top\" class=\"title\"><span class=\"rank\">26.</span></td>      <td valign=\"top\" class=\"votelinks\"><center><a id=\\'up_12824186\\' href=\\'vote?id=12824186&amp;how=up&amp;goto=news\\'><div class=\\'votearrow\\' title=\\'upvote\\'></div></a></center></td><td class=\"title\"><a href=\"https://arxiv.org/abs/1610.07629\" class=\"storylink\">A Learned Representation for Artistic Style</a><span class=\"sitebit comhead\"> (<a href=\"from?site=arxiv.org\"><span class=\"sitestr\">arxiv.org</span></a>)</span></td></tr><tr><td colspan=\"2\"></td><td class=\"subtext\">\\n        <span class=\"score\" id=\"score_12824186\">37 points</span> by <a href=\"user?id=EvgeniyZh\" class=\"hnuser\">EvgeniyZh</a> <span class=\"age\"><a href=\"item?id=12824186\">13 hours ago</a></span> <span id=\"unv_12824186\"></span> | <a href=\"hide?id=12824186&amp;goto=news\">hide</a> | <a href=\"item?id=12824186\">2&nbsp;comments</a>              </td></tr>\\n      <tr class=\"spacer\" style=\"height:5px\"></tr>\\n                <tr class=\\'athing\\' id=\\'12825087\\'>\\n      <td align=\"right\" valign=\"top\" class=\"title\"><span class=\"rank\">27.</span></td>      <td valign=\"top\" class=\"votelinks\"><center><a id=\\'up_12825087\\' href=\\'vote?id=12825087&amp;how=up&amp;goto=news\\'><div class=\\'votearrow\\' title=\\'upvote\\'></div></a></center></td><td class=\"title\"><a href=\"http://www.anandtech.com/show/6007/amd-2013-apus-to-include-arm-cortexa5-processor-for-trustzone-capabilities\" class=\"storylink\">AMD 2013 APUs to Include ARM Cortex-A5 Processor for TrustZone Capabilities</a><span class=\"sitebit comhead\"> (<a href=\"from?site=anandtech.com\"><span class=\"sitestr\">anandtech.com</span></a>)</span></td></tr><tr><td colspan=\"2\"></td><td class=\"subtext\">\\n        <span class=\"score\" id=\"score_12825087\">40 points</span> by <a href=\"user?id=colinscape\" class=\"hnuser\">colinscape</a> <span class=\"age\"><a href=\"item?id=12825087\">10 hours ago</a></span> <span id=\"unv_12825087\"></span> | <a href=\"hide?id=12825087&amp;goto=news\">hide</a> | <a href=\"item?id=12825087\">3&nbsp;comments</a>              </td></tr>\\n      <tr class=\"spacer\" style=\"height:5px\"></tr>\\n                <tr class=\\'athing\\' id=\\'12825953\\'>\\n      <td align=\"right\" valign=\"top\" class=\"title\"><span class=\"rank\">28.</span></td>      <td valign=\"top\" class=\"votelinks\"><center><a id=\\'up_12825953\\' href=\\'vote?id=12825953&amp;how=up&amp;goto=news\\'><div class=\\'votearrow\\' title=\\'upvote\\'></div></a></center></td><td class=\"title\"><a href=\"http://williampross.com/became-hackerrank-1-two-hours?ref=yc\" class=\"storylink\">How I Became HackerRank 1 in Two Hours</a><span class=\"sitebit comhead\"> (<a href=\"from?site=williampross.com\"><span class=\"sitestr\">williampross.com</span></a>)</span></td></tr><tr><td colspan=\"2\"></td><td class=\"subtext\">\\n        <span class=\"score\" id=\"score_12825953\">262 points</span> by <a href=\"user?id=abhas9\" class=\"hnuser\">abhas9</a> <span class=\"age\"><a href=\"item?id=12825953\">8 hours ago</a></span> <span id=\"unv_12825953\"></span> | <a href=\"hide?id=12825953&amp;goto=news\">hide</a> | <a href=\"item?id=12825953\">236&nbsp;comments</a>              </td></tr>\\n      <tr class=\"spacer\" style=\"height:5px\"></tr>\\n                <tr class=\\'athing\\' id=\\'12822018\\'>\\n      <td align=\"right\" valign=\"top\" class=\"title\"><span class=\"rank\">29.</span></td>      <td valign=\"top\" class=\"votelinks\"><center><a id=\\'up_12822018\\' href=\\'vote?id=12822018&amp;how=up&amp;goto=news\\'><div class=\\'votearrow\\' title=\\'upvote\\'></div></a></center></td><td class=\"title\"><a href=\"https://powerwall.tesla.com/?powerwall2\" class=\"storylink\">Powerwall 2 and Integrated Solar</a><span class=\"sitebit comhead\"> (<a href=\"from?site=tesla.com\"><span class=\"sitestr\">tesla.com</span></a>)</span></td></tr><tr><td colspan=\"2\"></td><td class=\"subtext\">\\n        <span class=\"score\" id=\"score_12822018\">470 points</span> by <a href=\"user?id=ph0rque\" class=\"hnuser\">ph0rque</a> <span class=\"age\"><a href=\"item?id=12822018\">1 day ago</a></span> <span id=\"unv_12822018\"></span> | <a href=\"hide?id=12822018&amp;goto=news\">hide</a> | <a href=\"item?id=12822018\">292&nbsp;comments</a>              </td></tr>\\n      <tr class=\"spacer\" style=\"height:5px\"></tr>\\n                <tr class=\\'athing\\' id=\\'12817468\\'>\\n      <td align=\"right\" valign=\"top\" class=\"title\"><span class=\"rank\">30.</span></td>      <td valign=\"top\" class=\"votelinks\"><center><a id=\\'up_12817468\\' href=\\'vote?id=12817468&amp;how=up&amp;goto=news\\'><div class=\\'votearrow\\' title=\\'upvote\\'></div></a></center></td><td class=\"title\"><a href=\"http://programming.witheve.com/\" class=\"storylink\">Eve: Programming designed for humans</a><span class=\"sitebit comhead\"> (<a href=\"from?site=witheve.com\"><span class=\"sitestr\">witheve.com</span></a>)</span></td></tr><tr><td colspan=\"2\"></td><td class=\"subtext\">\\n        <span class=\"score\" id=\"score_12817468\">982 points</span> by <a href=\"user?id=ibdknox\" class=\"hnuser\">ibdknox</a> <span class=\"age\"><a href=\"item?id=12817468\">1 day ago</a></span> <span id=\"unv_12817468\"></span> | <a href=\"hide?id=12817468&amp;goto=news\">hide</a> | <a href=\"item?id=12817468\">361&nbsp;comments</a>              </td></tr>\\n      <tr class=\"spacer\" style=\"height:5px\"></tr>\\n            <tr class=\"morespace\" style=\"height:10px\"></tr><tr><td colspan=\"2\"></td><td class=\"title\"><a href=\"news?p=2\" class=\"morelink\" rel=\"nofollow\">More</a></td></tr>\\n  </table>\\n</td></tr>\\n<tr><td><img src=\"s.gif\" height=\"10\" width=\"0\"><table width=\"100%\" cellspacing=\"0\" cellpadding=\"1\"><tr><td bgcolor=\"#ff6600\"></td></tr></table><br><center><span class=\"yclinks\"><a href=\"newsguidelines.html\">Guidelines</a>\\n        | <a href=\"newsfaq.html\">FAQ</a>\\n        | <a href=\"mailto:hn@ycombinator.com\">Support</a>\\n        | <a href=\"https://github.com/HackerNews/API\">API</a>\\n        | <a href=\"security.html\">Security</a>\\n        | <a href=\"lists\">Lists</a>\\n        | <a href=\"bookmarklet.html\">Bookmarklet</a>\\n        | <a href=\"dmca.html\">DMCA</a>\\n        | <a href=\"http://www.ycombinator.com/apply/\">Apply to YC</a>\\n        | <a href=\"mailto:hn@ycombinator.com\">Contact</a></span><br><br><form method=\"get\" action=\"//hn.algolia.com/\">Search:\\n          <input type=\"text\" name=\"q\" value=\"\" size=\"17\" autocorrect=\"off\" spellcheck=\"false\" autocapitalize=\"off\" autocomplete=\"false\"></form>\\n            </center></td></tr>      </table></center></body><script type=\\'text/javascript\\' src=\\'hn.js?qteYN9s39JuqPSkaxUEz\\'></script></html>\\n'"
      ]
     },
     "execution_count": 3,
     "metadata": {},
     "output_type": "execute_result"
    }
   ],
   "source": [
    "response.content"
   ]
  },
  {
   "cell_type": "markdown",
   "metadata": {},
   "source": [
    "#### Pulling using XPath for Title, Comments and Points"
   ]
  },
  {
   "cell_type": "code",
   "execution_count": 5,
   "metadata": {
    "collapsed": false
   },
   "outputs": [
    {
     "data": {
      "text/plain": [
       "<Element html at 0x10462c680>"
      ]
     },
     "execution_count": 5,
     "metadata": {},
     "output_type": "execute_result"
    }
   ],
   "source": [
    "page = html.fromstring(response.content)\n",
    "page"
   ]
  },
  {
   "cell_type": "code",
   "execution_count": 6,
   "metadata": {
    "collapsed": false
   },
   "outputs": [
    {
     "data": {
      "text/plain": [
       "30"
      ]
     },
     "execution_count": 6,
     "metadata": {},
     "output_type": "execute_result"
    }
   ],
   "source": [
    "res = page.cssselect('span.score')\n",
    "len(res)"
   ]
  },
  {
   "cell_type": "code",
   "execution_count": 7,
   "metadata": {
    "collapsed": true
   },
   "outputs": [],
   "source": [
    "posts = page.xpath('//td[contains(@class, \"title\")]')"
   ]
  },
  {
   "cell_type": "code",
   "execution_count": 8,
   "metadata": {
    "collapsed": false
   },
   "outputs": [
    {
     "data": {
      "text/plain": [
       "61"
      ]
     },
     "execution_count": 8,
     "metadata": {},
     "output_type": "execute_result"
    }
   ],
   "source": [
    "len(posts)"
   ]
  },
  {
   "cell_type": "code",
   "execution_count": 10,
   "metadata": {
    "collapsed": false
   },
   "outputs": [
    {
     "data": {
      "text/plain": [
       "'DMCA exemptions for modifications and research on your vehicle come into effect'"
      ]
     },
     "execution_count": 10,
     "metadata": {},
     "output_type": "execute_result"
    }
   ],
   "source": [
    "first_post = posts[0]\n",
    "first_post.text"
   ]
  },
  {
   "cell_type": "code",
   "execution_count": 11,
   "metadata": {
    "collapsed": false
   },
   "outputs": [
    {
     "data": {
      "text/plain": [
       "{'href': 'http://ifixit.org/blog/8510/car-repair-illegal-dmca/', 'class': 'storylink'}"
      ]
     },
     "execution_count": 11,
     "metadata": {},
     "output_type": "execute_result"
    }
   ],
   "source": [
    "first_post.attrib"
   ]
  },
  {
   "cell_type": "code",
   "execution_count": 12,
   "metadata": {
    "collapsed": false
   },
   "outputs": [
    {
     "data": {
      "text/plain": [
       "'http://ifixit.org/blog/8510/car-repair-illegal-dmca/'"
      ]
     },
     "execution_count": 12,
     "metadata": {},
     "output_type": "execute_result"
    }
   ],
   "source": [
    "first_post.attrib[\"href\"]"
   ]
  },
  {
   "cell_type": "code",
   "execution_count": 21,
   "metadata": {
    "collapsed": true
   },
   "outputs": [],
   "source": [
    "all_links = []\n",
    "for p in posts:\n",
    "    all_links.append((p.text, p.attrib[\"href\"]))"
   ]
  },
  {
   "cell_type": "code",
   "execution_count": 22,
   "metadata": {
    "collapsed": false
   },
   "outputs": [
    {
     "data": {
      "text/plain": [
       "[('DMCA exemptions for modifications and research on your vehicle come into effect',\n",
       "  'http://ifixit.org/blog/8510/car-repair-illegal-dmca/'),\n",
       " (u'Don\\xe2\\x80\\x99t go to art school (2013)',\n",
       "  'https://medium.com/i-m-h-o/dont-go-to-art-school-138c5efd45e9#.87guodhbv'),\n",
       " ('Adaptive Hardware: Context Aware Interfaces (2013)',\n",
       "  'https://www.microsoft.com/appliedsciences/content/projects/AdaptiveHardware.aspx'),\n",
       " ('Intel driven MacBook Pros have secondary ARM processor for Touch ID and security',\n",
       "  'https://techcrunch.com/2016/10/28/apples-new-intel-driven-macbooks-have-a-secondary-arm-processor-that-runs-touch-id-and-security/'),\n",
       " ('Doubts About the Promised Bounty of Genetically Modified Crops',\n",
       "  'http://www.nytimes.com/2016/10/30/business/gmo-promise-falls-short.html?hp&action=click&pgtype=Homepage&clickSource=image&module=photo-spot-region&region=top-news&WT.nav=top-news&_r=1&login=facebook'),\n",
       " ('Total Nightmare: USB-C and Thunderbolt 3',\n",
       "  'http://blog.fosketts.net/2016/10/29/total-nightmare-usb-c-thunderbolt-3/'),\n",
       " (\"Thomas Piketty's Capital in the 21st Century, in 20 minutes [video]\",\n",
       "  'http://boingboing.net/2014/10/23/thomas-pikettys-capital-in-t-2.html'),\n",
       " ('Step-by-step tutorial to build a modern JavaScript stack from scratch',\n",
       "  'https://github.com/verekia/js-stack-from-scratch'),\n",
       " ('Photographers of 1870s London Documented Their Disappearing City',\n",
       "  'http://hyperallergic.com/299912/the-photographers-of-1870s-london-who-documented-their-disappearing-city/'),\n",
       " (u'Frink \\xe2\\x80\\x93 A practical calculating tool and programming language',\n",
       "  'https://frinklang.org'),\n",
       " ('Something magical happened to me today, and I wanted to tell you all about it',\n",
       "  'https://twitter.com/mwichary/status/791709895083102209'),\n",
       " ('GraphicsMagick Image Processing System',\n",
       "  'http://www.graphicsmagick.org/index.html'),\n",
       " (u'Dear Matt Mullenweg: An Open Letter from Wix.com\\xe2\\x80\\x99s CEO Avishai Abrahami',\n",
       "  'http://www.wix.com/blog/2016/10/dear-matt-mullenweg-an-open-letter-from-wix-coms-ceo-avishai-abrahami/'),\n",
       " (u'ICANN\\xe2\\x80\\x99s First Test of Accountability',\n",
       "  'https://afilias.info/blogs/web-icanns-first-test-accountability'),\n",
       " ('Yasha Levine: Interview about Tor, spies and the cult of crypto',\n",
       "  'https://surveillancevalley.net/blog/interview-in-german-magazine-konkret-about-tor-and-the-cult-of-crypto'),\n",
       " ('Universal adversarial perturbations', 'https://arxiv.org/abs/1610.08401'),\n",
       " ('ESPN Loses 621,000 Subscribers; Worst Month in Company History',\n",
       "  'http://www.outkickthecoverage.com/espn-loses-621-000-subscribers-worst-month-in-company-history-102916'),\n",
       " ('The Science of Eggs', 'http://luckypeach.com/the-science-of-eggs/'),\n",
       " ('Strategies of Human Mating (2006) [pdf]',\n",
       "  'http://www.weimag.ch/micha/dc/05_Buss_Strategies%20of%20Human%20Mating.pdf'),\n",
       " ('Seattle: Highest Minimum Wage, Lowest Unemployment Rate',\n",
       "  'http://ritholtz.com/2016/10/seattle-highest-minimum-wage/'),\n",
       " ('Is Vue.js easier for a beginner to learn than jQuery?',\n",
       "  'https://medium.com/js-dojo/vue-js-is-easier-to-learn-than-jquery-abbbb9c12cf8#.9cwt60spf'),\n",
       " ('Turned down 18 times. Then Paul Beatty won the Booker',\n",
       "  'https://www.theguardian.com/books/2016/oct/26/man-booker-prize-winner-paul-beatty-the-sellout-interview'),\n",
       " (u'EasyMVP \\xe2\\x80\\x93 Android library with annotation processing and bytecode weaving',\n",
       "  'https://github.com/6thsolution/EasyMVP'),\n",
       " (u'Show HN: React-decoration \\xe2\\x80\\x93 A collection of decorators for React Components',\n",
       "  'https://github.com/mbasso/react-decoration/releases/tag/1.3.0'),\n",
       " (u'A Map of the World Won Japan\\xe2\\x80\\x99s Prestigious Design Award',\n",
       "  'http://www.spoon-tamago.com/2016/10/28/hajime-narukawa-authagraph/'),\n",
       " ('A Learned Representation for Artistic Style',\n",
       "  'https://arxiv.org/abs/1610.07629'),\n",
       " ('AMD 2013 APUs to Include ARM Cortex-A5 Processor for TrustZone Capabilities',\n",
       "  'http://www.anandtech.com/show/6007/amd-2013-apus-to-include-arm-cortexa5-processor-for-trustzone-capabilities'),\n",
       " ('How I Became HackerRank 1 in Two Hours',\n",
       "  'http://williampross.com/became-hackerrank-1-two-hours?ref=yc'),\n",
       " ('Powerwall 2 and Integrated Solar',\n",
       "  'https://powerwall.tesla.com/?powerwall2'),\n",
       " ('Eve: Programming designed for humans', 'http://programming.witheve.com/'),\n",
       " ('More', 'news?p=2')]"
      ]
     },
     "execution_count": 22,
     "metadata": {},
     "output_type": "execute_result"
    }
   ],
   "source": [
    "all_links"
   ]
  },
  {
   "cell_type": "code",
   "execution_count": 23,
   "metadata": {
    "collapsed": true
   },
   "outputs": [],
   "source": [
    "points = page.xpath('//span[contains(@class, \"score\")]')"
   ]
  },
  {
   "cell_type": "code",
   "execution_count": 24,
   "metadata": {
    "collapsed": false
   },
   "outputs": [
    {
     "data": {
      "text/plain": [
       "30"
      ]
     },
     "execution_count": 24,
     "metadata": {},
     "output_type": "execute_result"
    }
   ],
   "source": [
    "len(points)"
   ]
  },
  {
   "cell_type": "code",
   "execution_count": 52,
   "metadata": {
    "collapsed": false
   },
   "outputs": [
    {
     "data": {
      "text/plain": [
       "163"
      ]
     },
     "execution_count": 52,
     "metadata": {},
     "output_type": "execute_result"
    }
   ],
   "source": [
    "int(points[0].text[:-7])"
   ]
  },
  {
   "cell_type": "code",
   "execution_count": 71,
   "metadata": {
    "collapsed": false
   },
   "outputs": [
    {
     "name": "stdout",
     "output_type": "stream",
     "text": [
      "163 points\n",
      "205 points\n",
      "85 points\n",
      "229 points\n",
      "46 points\n",
      "650 points\n",
      "217 points\n",
      "217 points\n",
      "145 points\n",
      "72 points\n",
      "49 points\n",
      "139 points\n",
      "140 points\n",
      "75 points\n",
      "14 points\n",
      "83 points\n",
      "286 points\n",
      "39 points\n",
      "83 points\n",
      "91 points\n",
      "4 points\n",
      "37 points\n",
      "48 points\n",
      "36 points\n",
      "210 points\n",
      "37 points\n",
      "40 points\n",
      "262 points\n",
      "470 points\n",
      "982 points\n"
     ]
    }
   ],
   "source": [
    "for i in points:\n",
    "    print i.text"
   ]
  },
  {
   "cell_type": "code",
   "execution_count": 78,
   "metadata": {
    "collapsed": false
   },
   "outputs": [
    {
     "name": "stdout",
     "output_type": "stream",
     "text": [
      "5154\n",
      "171\n",
      "[163, 205, 85, 229, 46, 650, 217, 217, 145, 72, 49, 139, 140, 75, 14, 83, 286, 39, 83, 91, 4, 37, 48, 36, 210, 37, 40, 262, 470, 982]\n"
     ]
    }
   ],
   "source": [
    "Sum = 0\n",
    "ipoints = []\n",
    "for x in points:\n",
    "    Sum += int(x.text[:-7])\n",
    "    ipoints.append(int(x.text[:-7]))\n",
    "print Sum\n",
    "avgScore = Sum/len(points)\n",
    "print avgScore\n",
    "print ipoints"
   ]
  },
  {
   "cell_type": "code",
   "execution_count": 134,
   "metadata": {
    "collapsed": false
   },
   "outputs": [
    {
     "name": "stdout",
     "output_type": "stream",
     "text": [
      "['DMCA exemptions for modifications and research on your vehicle come into effect', u'Don\\xe2\\x80\\x99t go to art school (2013)', 'Adaptive Hardware: Context Aware Interfaces (2013)', 'Intel driven MacBook Pros have secondary ARM processor for Touch ID and security', 'Doubts About the Promised Bounty of Genetically Modified Crops', 'Total Nightmare: USB-C and Thunderbolt 3', \"Thomas Piketty's Capital in the 21st Century, in 20 minutes [video]\", 'Step-by-step tutorial to build a modern JavaScript stack from scratch', 'Photographers of 1870s London Documented Their Disappearing City', u'Frink \\xe2\\x80\\x93 A practical calculating tool and programming language', 'Something magical happened to me today, and I wanted to tell you all about it', 'GraphicsMagick Image Processing System', u'Dear Matt Mullenweg: An Open Letter from Wix.com\\xe2\\x80\\x99s CEO Avishai Abrahami', u'ICANN\\xe2\\x80\\x99s First Test of Accountability', 'Yasha Levine: Interview about Tor, spies and the cult of crypto', 'Universal adversarial perturbations', 'ESPN Loses 621,000 Subscribers; Worst Month in Company History', 'The Science of Eggs', 'Strategies of Human Mating (2006) [pdf]', 'Seattle: Highest Minimum Wage, Lowest Unemployment Rate', 'Is Vue.js easier for a beginner to learn than jQuery?', 'Turned down 18 times. Then Paul Beatty won the Booker', u'EasyMVP \\xe2\\x80\\x93 Android library with annotation processing and bytecode weaving', u'Show HN: React-decoration \\xe2\\x80\\x93 A collection of decorators for React Components', u'A Map of the World Won Japan\\xe2\\x80\\x99s Prestigious Design Award', 'A Learned Representation for Artistic Style', 'AMD 2013 APUs to Include ARM Cortex-A5 Processor for TrustZone Capabilities', 'How I Became HackerRank 1 in Two Hours', 'Powerwall 2 and Integrated Solar', 'Eve: Programming designed for humans', 'More']\n"
     ]
    }
   ],
   "source": [
    "iposts = []\n",
    "for x in posts:\n",
    "    iposts.append(x.text)\n",
    "print iposts"
   ]
  },
  {
   "cell_type": "markdown",
   "metadata": {},
   "source": [
    "## Q 1: Please upload your Jupyter notebook here that contains the implementation of this function:\n",
    "\n",
    "### Print out the average points of the posters to frontpage of HackerNews\n",
    "def getExperiencePointsNow():\n",
    "     # stuff here\n",
    "     print \"Average experience now: %.2f\" % (avgScore)\n",
    "     \n",
    " getExperiencePointsNow()"
   ]
  },
  {
   "cell_type": "code",
   "execution_count": 79,
   "metadata": {
    "collapsed": false
   },
   "outputs": [
    {
     "name": "stdout",
     "output_type": "stream",
     "text": [
      "Average experience now: 171.00\n"
     ]
    }
   ],
   "source": [
    "def getExperiencePointsNow():\n",
    "     # stuff here\n",
    "     print \"Average experience now: %.2f\" % (avgScore)\n",
    "getExperiencePointsNow()"
   ]
  },
  {
   "cell_type": "code",
   "execution_count": 101,
   "metadata": {
    "collapsed": false
   },
   "outputs": [],
   "source": [
    "comments = page.xpath('//td[contains(@class, \"subtext\")]/a')"
   ]
  },
  {
   "cell_type": "code",
   "execution_count": 124,
   "metadata": {
    "collapsed": false
   },
   "outputs": [
    {
     "name": "stdout",
     "output_type": "stream",
     "text": [
      "[35, 137, 28, 105, 38, 355, 144, 121, 17, 11, 14, 37, 88, 18, 4, 29, 360, 13, 33, 46, 6, 6, 5, 89, 2, 3, 236, 292, 361]\n"
     ]
    }
   ],
   "source": [
    "icomments = []\n",
    "Sum = 0\n",
    "\n",
    "for x in comments:\n",
    "    if \"comments\" in x.text:\n",
    "        icomments.append(int(x.text[:-9]))\n",
    "        #Sum += int(x.text[:-12])\n",
    "#print Sum\n",
    "print icomments"
   ]
  },
  {
   "cell_type": "markdown",
   "metadata": {},
   "source": [
    "### Zipping the DataFrames together"
   ]
  },
  {
   "cell_type": "code",
   "execution_count": 127,
   "metadata": {
    "collapsed": false
   },
   "outputs": [
    {
     "data": {
      "text/html": [
       "<div>\n",
       "<table border=\"1\" class=\"dataframe\">\n",
       "  <thead>\n",
       "    <tr style=\"text-align: right;\">\n",
       "      <th></th>\n",
       "      <th>Title</th>\n",
       "      <th>Points</th>\n",
       "      <th># Comments</th>\n",
       "    </tr>\n",
       "  </thead>\n",
       "  <tbody>\n",
       "    <tr>\n",
       "      <th>0</th>\n",
       "      <td>DMCA exemptions for modifications and research...</td>\n",
       "      <td>163</td>\n",
       "      <td>35</td>\n",
       "    </tr>\n",
       "    <tr>\n",
       "      <th>1</th>\n",
       "      <td>Donât go to art school (2013)</td>\n",
       "      <td>205</td>\n",
       "      <td>137</td>\n",
       "    </tr>\n",
       "    <tr>\n",
       "      <th>2</th>\n",
       "      <td>Adaptive Hardware: Context Aware Interfaces (2...</td>\n",
       "      <td>85</td>\n",
       "      <td>28</td>\n",
       "    </tr>\n",
       "    <tr>\n",
       "      <th>3</th>\n",
       "      <td>Intel driven MacBook Pros have secondary ARM p...</td>\n",
       "      <td>229</td>\n",
       "      <td>105</td>\n",
       "    </tr>\n",
       "    <tr>\n",
       "      <th>4</th>\n",
       "      <td>Doubts About the Promised Bounty of Geneticall...</td>\n",
       "      <td>46</td>\n",
       "      <td>38</td>\n",
       "    </tr>\n",
       "    <tr>\n",
       "      <th>5</th>\n",
       "      <td>Total Nightmare: USB-C and Thunderbolt 3</td>\n",
       "      <td>650</td>\n",
       "      <td>355</td>\n",
       "    </tr>\n",
       "    <tr>\n",
       "      <th>6</th>\n",
       "      <td>Thomas Piketty's Capital in the 21st Century, ...</td>\n",
       "      <td>217</td>\n",
       "      <td>144</td>\n",
       "    </tr>\n",
       "    <tr>\n",
       "      <th>7</th>\n",
       "      <td>Step-by-step tutorial to build a modern JavaSc...</td>\n",
       "      <td>217</td>\n",
       "      <td>121</td>\n",
       "    </tr>\n",
       "    <tr>\n",
       "      <th>8</th>\n",
       "      <td>Photographers of 1870s London Documented Their...</td>\n",
       "      <td>145</td>\n",
       "      <td>17</td>\n",
       "    </tr>\n",
       "    <tr>\n",
       "      <th>9</th>\n",
       "      <td>Frink â A practical calculating tool and pro...</td>\n",
       "      <td>72</td>\n",
       "      <td>11</td>\n",
       "    </tr>\n",
       "    <tr>\n",
       "      <th>10</th>\n",
       "      <td>Something magical happened to me today, and I ...</td>\n",
       "      <td>49</td>\n",
       "      <td>14</td>\n",
       "    </tr>\n",
       "    <tr>\n",
       "      <th>11</th>\n",
       "      <td>GraphicsMagick Image Processing System</td>\n",
       "      <td>139</td>\n",
       "      <td>37</td>\n",
       "    </tr>\n",
       "    <tr>\n",
       "      <th>12</th>\n",
       "      <td>Dear Matt Mullenweg: An Open Letter from Wix.c...</td>\n",
       "      <td>140</td>\n",
       "      <td>88</td>\n",
       "    </tr>\n",
       "    <tr>\n",
       "      <th>13</th>\n",
       "      <td>ICANNâs First Test of Accountability</td>\n",
       "      <td>75</td>\n",
       "      <td>18</td>\n",
       "    </tr>\n",
       "    <tr>\n",
       "      <th>14</th>\n",
       "      <td>Yasha Levine: Interview about Tor, spies and t...</td>\n",
       "      <td>14</td>\n",
       "      <td>4</td>\n",
       "    </tr>\n",
       "    <tr>\n",
       "      <th>15</th>\n",
       "      <td>Universal adversarial perturbations</td>\n",
       "      <td>83</td>\n",
       "      <td>29</td>\n",
       "    </tr>\n",
       "    <tr>\n",
       "      <th>16</th>\n",
       "      <td>ESPN Loses 621,000 Subscribers; Worst Month in...</td>\n",
       "      <td>286</td>\n",
       "      <td>360</td>\n",
       "    </tr>\n",
       "    <tr>\n",
       "      <th>17</th>\n",
       "      <td>The Science of Eggs</td>\n",
       "      <td>39</td>\n",
       "      <td>13</td>\n",
       "    </tr>\n",
       "    <tr>\n",
       "      <th>18</th>\n",
       "      <td>Strategies of Human Mating (2006) [pdf]</td>\n",
       "      <td>83</td>\n",
       "      <td>33</td>\n",
       "    </tr>\n",
       "    <tr>\n",
       "      <th>19</th>\n",
       "      <td>Seattle: Highest Minimum Wage, Lowest Unemploy...</td>\n",
       "      <td>91</td>\n",
       "      <td>46</td>\n",
       "    </tr>\n",
       "    <tr>\n",
       "      <th>20</th>\n",
       "      <td>Is Vue.js easier for a beginner to learn than ...</td>\n",
       "      <td>4</td>\n",
       "      <td>6</td>\n",
       "    </tr>\n",
       "    <tr>\n",
       "      <th>21</th>\n",
       "      <td>Turned down 18 times. Then Paul Beatty won the...</td>\n",
       "      <td>37</td>\n",
       "      <td>6</td>\n",
       "    </tr>\n",
       "    <tr>\n",
       "      <th>22</th>\n",
       "      <td>EasyMVP â Android library with annotation pr...</td>\n",
       "      <td>48</td>\n",
       "      <td>5</td>\n",
       "    </tr>\n",
       "    <tr>\n",
       "      <th>23</th>\n",
       "      <td>Show HN: React-decoration â A collection of ...</td>\n",
       "      <td>36</td>\n",
       "      <td>89</td>\n",
       "    </tr>\n",
       "    <tr>\n",
       "      <th>24</th>\n",
       "      <td>A Map of the World Won Japanâs Prestigious D...</td>\n",
       "      <td>210</td>\n",
       "      <td>2</td>\n",
       "    </tr>\n",
       "    <tr>\n",
       "      <th>25</th>\n",
       "      <td>A Learned Representation for Artistic Style</td>\n",
       "      <td>37</td>\n",
       "      <td>3</td>\n",
       "    </tr>\n",
       "    <tr>\n",
       "      <th>26</th>\n",
       "      <td>AMD 2013 APUs to Include ARM Cortex-A5 Process...</td>\n",
       "      <td>40</td>\n",
       "      <td>236</td>\n",
       "    </tr>\n",
       "    <tr>\n",
       "      <th>27</th>\n",
       "      <td>How I Became HackerRank 1 in Two Hours</td>\n",
       "      <td>262</td>\n",
       "      <td>292</td>\n",
       "    </tr>\n",
       "    <tr>\n",
       "      <th>28</th>\n",
       "      <td>Powerwall 2 and Integrated Solar</td>\n",
       "      <td>470</td>\n",
       "      <td>361</td>\n",
       "    </tr>\n",
       "  </tbody>\n",
       "</table>\n",
       "</div>"
      ],
      "text/plain": [
       "                                                Title  Points  # Comments\n",
       "0   DMCA exemptions for modifications and research...     163          35\n",
       "1                     Donât go to art school (2013)     205         137\n",
       "2   Adaptive Hardware: Context Aware Interfaces (2...      85          28\n",
       "3   Intel driven MacBook Pros have secondary ARM p...     229         105\n",
       "4   Doubts About the Promised Bounty of Geneticall...      46          38\n",
       "5            Total Nightmare: USB-C and Thunderbolt 3     650         355\n",
       "6   Thomas Piketty's Capital in the 21st Century, ...     217         144\n",
       "7   Step-by-step tutorial to build a modern JavaSc...     217         121\n",
       "8   Photographers of 1870s London Documented Their...     145          17\n",
       "9   Frink â A practical calculating tool and pro...      72          11\n",
       "10  Something magical happened to me today, and I ...      49          14\n",
       "11             GraphicsMagick Image Processing System     139          37\n",
       "12  Dear Matt Mullenweg: An Open Letter from Wix.c...     140          88\n",
       "13             ICANNâs First Test of Accountability      75          18\n",
       "14  Yasha Levine: Interview about Tor, spies and t...      14           4\n",
       "15                Universal adversarial perturbations      83          29\n",
       "16  ESPN Loses 621,000 Subscribers; Worst Month in...     286         360\n",
       "17                                The Science of Eggs      39          13\n",
       "18            Strategies of Human Mating (2006) [pdf]      83          33\n",
       "19  Seattle: Highest Minimum Wage, Lowest Unemploy...      91          46\n",
       "20  Is Vue.js easier for a beginner to learn than ...       4           6\n",
       "21  Turned down 18 times. Then Paul Beatty won the...      37           6\n",
       "22  EasyMVP â Android library with annotation pr...      48           5\n",
       "23  Show HN: React-decoration â A collection of ...      36          89\n",
       "24  A Map of the World Won Japanâs Prestigious D...     210           2\n",
       "25        A Learned Representation for Artistic Style      37           3\n",
       "26  AMD 2013 APUs to Include ARM Cortex-A5 Process...      40         236\n",
       "27             How I Became HackerRank 1 in Two Hours     262         292\n",
       "28                   Powerwall 2 and Integrated Solar     470         361"
      ]
     },
     "execution_count": 127,
     "metadata": {},
     "output_type": "execute_result"
    }
   ],
   "source": [
    "df = pd.DataFrame(zip(iposts, ipoints, icomments))\n",
    "df['Title'] = df[0]\n",
    "df['Points'] = df[1]\n",
    "df['# Comments'] = df[2]\n",
    "df = df[['Title', 'Points', '# Comments']]\n",
    "df"
   ]
  },
  {
   "cell_type": "markdown",
   "metadata": {},
   "source": [
    "## Q 3: Return 2 lists: (1) top 10 articles by points, (2) top 10 articles by comments"
   ]
  },
  {
   "cell_type": "markdown",
   "metadata": {},
   "source": [
    "### By Points"
   ]
  },
  {
   "cell_type": "code",
   "execution_count": 132,
   "metadata": {
    "collapsed": false
   },
   "outputs": [
    {
     "data": {
      "text/html": [
       "<div>\n",
       "<table border=\"1\" class=\"dataframe\">\n",
       "  <thead>\n",
       "    <tr style=\"text-align: right;\">\n",
       "      <th></th>\n",
       "      <th>Title</th>\n",
       "      <th>Points</th>\n",
       "      <th># Comments</th>\n",
       "    </tr>\n",
       "  </thead>\n",
       "  <tbody>\n",
       "    <tr>\n",
       "      <th>5</th>\n",
       "      <td>Total Nightmare: USB-C and Thunderbolt 3</td>\n",
       "      <td>650</td>\n",
       "      <td>355</td>\n",
       "    </tr>\n",
       "    <tr>\n",
       "      <th>28</th>\n",
       "      <td>Powerwall 2 and Integrated Solar</td>\n",
       "      <td>470</td>\n",
       "      <td>361</td>\n",
       "    </tr>\n",
       "    <tr>\n",
       "      <th>16</th>\n",
       "      <td>ESPN Loses 621,000 Subscribers; Worst Month in...</td>\n",
       "      <td>286</td>\n",
       "      <td>360</td>\n",
       "    </tr>\n",
       "    <tr>\n",
       "      <th>27</th>\n",
       "      <td>How I Became HackerRank 1 in Two Hours</td>\n",
       "      <td>262</td>\n",
       "      <td>292</td>\n",
       "    </tr>\n",
       "    <tr>\n",
       "      <th>3</th>\n",
       "      <td>Intel driven MacBook Pros have secondary ARM p...</td>\n",
       "      <td>229</td>\n",
       "      <td>105</td>\n",
       "    </tr>\n",
       "    <tr>\n",
       "      <th>6</th>\n",
       "      <td>Thomas Piketty's Capital in the 21st Century, ...</td>\n",
       "      <td>217</td>\n",
       "      <td>144</td>\n",
       "    </tr>\n",
       "    <tr>\n",
       "      <th>7</th>\n",
       "      <td>Step-by-step tutorial to build a modern JavaSc...</td>\n",
       "      <td>217</td>\n",
       "      <td>121</td>\n",
       "    </tr>\n",
       "    <tr>\n",
       "      <th>24</th>\n",
       "      <td>A Map of the World Won Japanâs Prestigious D...</td>\n",
       "      <td>210</td>\n",
       "      <td>2</td>\n",
       "    </tr>\n",
       "    <tr>\n",
       "      <th>1</th>\n",
       "      <td>Donât go to art school (2013)</td>\n",
       "      <td>205</td>\n",
       "      <td>137</td>\n",
       "    </tr>\n",
       "    <tr>\n",
       "      <th>0</th>\n",
       "      <td>DMCA exemptions for modifications and research...</td>\n",
       "      <td>163</td>\n",
       "      <td>35</td>\n",
       "    </tr>\n",
       "  </tbody>\n",
       "</table>\n",
       "</div>"
      ],
      "text/plain": [
       "                                                Title  Points  # Comments\n",
       "5            Total Nightmare: USB-C and Thunderbolt 3     650         355\n",
       "28                   Powerwall 2 and Integrated Solar     470         361\n",
       "16  ESPN Loses 621,000 Subscribers; Worst Month in...     286         360\n",
       "27             How I Became HackerRank 1 in Two Hours     262         292\n",
       "3   Intel driven MacBook Pros have secondary ARM p...     229         105\n",
       "6   Thomas Piketty's Capital in the 21st Century, ...     217         144\n",
       "7   Step-by-step tutorial to build a modern JavaSc...     217         121\n",
       "24  A Map of the World Won Japanâs Prestigious D...     210           2\n",
       "1                     Donât go to art school (2013)     205         137\n",
       "0   DMCA exemptions for modifications and research...     163          35"
      ]
     },
     "execution_count": 132,
     "metadata": {},
     "output_type": "execute_result"
    }
   ],
   "source": [
    "df.sort_values('Points', axis=0, ascending=False, inplace=False, kind='quicksort', na_position='last').head(10)"
   ]
  },
  {
   "cell_type": "markdown",
   "metadata": {},
   "source": [
    "### By Comments"
   ]
  },
  {
   "cell_type": "code",
   "execution_count": 133,
   "metadata": {
    "collapsed": false
   },
   "outputs": [
    {
     "data": {
      "text/html": [
       "<div>\n",
       "<table border=\"1\" class=\"dataframe\">\n",
       "  <thead>\n",
       "    <tr style=\"text-align: right;\">\n",
       "      <th></th>\n",
       "      <th>Title</th>\n",
       "      <th>Points</th>\n",
       "      <th># Comments</th>\n",
       "    </tr>\n",
       "  </thead>\n",
       "  <tbody>\n",
       "    <tr>\n",
       "      <th>28</th>\n",
       "      <td>Powerwall 2 and Integrated Solar</td>\n",
       "      <td>470</td>\n",
       "      <td>361</td>\n",
       "    </tr>\n",
       "    <tr>\n",
       "      <th>16</th>\n",
       "      <td>ESPN Loses 621,000 Subscribers; Worst Month in...</td>\n",
       "      <td>286</td>\n",
       "      <td>360</td>\n",
       "    </tr>\n",
       "    <tr>\n",
       "      <th>5</th>\n",
       "      <td>Total Nightmare: USB-C and Thunderbolt 3</td>\n",
       "      <td>650</td>\n",
       "      <td>355</td>\n",
       "    </tr>\n",
       "    <tr>\n",
       "      <th>27</th>\n",
       "      <td>How I Became HackerRank 1 in Two Hours</td>\n",
       "      <td>262</td>\n",
       "      <td>292</td>\n",
       "    </tr>\n",
       "    <tr>\n",
       "      <th>26</th>\n",
       "      <td>AMD 2013 APUs to Include ARM Cortex-A5 Process...</td>\n",
       "      <td>40</td>\n",
       "      <td>236</td>\n",
       "    </tr>\n",
       "    <tr>\n",
       "      <th>6</th>\n",
       "      <td>Thomas Piketty's Capital in the 21st Century, ...</td>\n",
       "      <td>217</td>\n",
       "      <td>144</td>\n",
       "    </tr>\n",
       "    <tr>\n",
       "      <th>1</th>\n",
       "      <td>Donât go to art school (2013)</td>\n",
       "      <td>205</td>\n",
       "      <td>137</td>\n",
       "    </tr>\n",
       "    <tr>\n",
       "      <th>7</th>\n",
       "      <td>Step-by-step tutorial to build a modern JavaSc...</td>\n",
       "      <td>217</td>\n",
       "      <td>121</td>\n",
       "    </tr>\n",
       "    <tr>\n",
       "      <th>3</th>\n",
       "      <td>Intel driven MacBook Pros have secondary ARM p...</td>\n",
       "      <td>229</td>\n",
       "      <td>105</td>\n",
       "    </tr>\n",
       "    <tr>\n",
       "      <th>23</th>\n",
       "      <td>Show HN: React-decoration â A collection of ...</td>\n",
       "      <td>36</td>\n",
       "      <td>89</td>\n",
       "    </tr>\n",
       "  </tbody>\n",
       "</table>\n",
       "</div>"
      ],
      "text/plain": [
       "                                                Title  Points  # Comments\n",
       "28                   Powerwall 2 and Integrated Solar     470         361\n",
       "16  ESPN Loses 621,000 Subscribers; Worst Month in...     286         360\n",
       "5            Total Nightmare: USB-C and Thunderbolt 3     650         355\n",
       "27             How I Became HackerRank 1 in Two Hours     262         292\n",
       "26  AMD 2013 APUs to Include ARM Cortex-A5 Process...      40         236\n",
       "6   Thomas Piketty's Capital in the 21st Century, ...     217         144\n",
       "1                     Donât go to art school (2013)     205         137\n",
       "7   Step-by-step tutorial to build a modern JavaSc...     217         121\n",
       "3   Intel driven MacBook Pros have secondary ARM p...     229         105\n",
       "23  Show HN: React-decoration â A collection of ...      36          89"
      ]
     },
     "execution_count": 133,
     "metadata": {},
     "output_type": "execute_result"
    }
   ],
   "source": [
    "df.sort_values('# Comments', axis=0, ascending=False, inplace=False, kind='quicksort', na_position='last').head(10)"
   ]
  },
  {
   "cell_type": "markdown",
   "metadata": {},
   "source": [
    "## Q 5: Ask a good question & answer it from the Hacker News front page\n",
    "\n",
    "### Count and sort the top 10 on the number of letters in Title"
   ]
  },
  {
   "cell_type": "code",
   "execution_count": 138,
   "metadata": {
    "collapsed": true
   },
   "outputs": [],
   "source": [
    "#def count_letters(word, valid_letters=string.ascii_letters):\n",
    "#    count = Counter(word) # this counts all the letters, including invalid ones\n",
    "#    return sum(count[letter] for letter in valid_letters) # add up valid letters"
   ]
  },
  {
   "cell_type": "code",
   "execution_count": 153,
   "metadata": {
    "collapsed": false
   },
   "outputs": [
    {
     "name": "stdout",
     "output_type": "stream",
     "text": [
      "[79, 31, 50, 80, 62, 40, 67, 69, 64, 63, 77, 38, 73, 38, 63, 35, 62, 19, 39, 55, 53, 53, 75, 77, 57, 43, 75, 38, 32, 36, 4]\n"
     ]
    }
   ],
   "source": [
    "countposts = []\n",
    "for x in iposts:\n",
    "    countposts.append(len(x.strip()))\n",
    "print countposts"
   ]
  },
  {
   "cell_type": "code",
   "execution_count": 157,
   "metadata": {
    "collapsed": false
   },
   "outputs": [
    {
     "data": {
      "text/html": [
       "<div>\n",
       "<table border=\"1\" class=\"dataframe\">\n",
       "  <thead>\n",
       "    <tr style=\"text-align: right;\">\n",
       "      <th></th>\n",
       "      <th>Title</th>\n",
       "      <th>Points</th>\n",
       "      <th># Comments</th>\n",
       "      <th>Title Length</th>\n",
       "    </tr>\n",
       "  </thead>\n",
       "  <tbody>\n",
       "    <tr>\n",
       "      <th>0</th>\n",
       "      <td>DMCA exemptions for modifications and research...</td>\n",
       "      <td>163</td>\n",
       "      <td>35</td>\n",
       "      <td>79</td>\n",
       "    </tr>\n",
       "    <tr>\n",
       "      <th>1</th>\n",
       "      <td>Donât go to art school (2013)</td>\n",
       "      <td>205</td>\n",
       "      <td>137</td>\n",
       "      <td>31</td>\n",
       "    </tr>\n",
       "    <tr>\n",
       "      <th>2</th>\n",
       "      <td>Adaptive Hardware: Context Aware Interfaces (2...</td>\n",
       "      <td>85</td>\n",
       "      <td>28</td>\n",
       "      <td>50</td>\n",
       "    </tr>\n",
       "    <tr>\n",
       "      <th>3</th>\n",
       "      <td>Intel driven MacBook Pros have secondary ARM p...</td>\n",
       "      <td>229</td>\n",
       "      <td>105</td>\n",
       "      <td>80</td>\n",
       "    </tr>\n",
       "    <tr>\n",
       "      <th>4</th>\n",
       "      <td>Doubts About the Promised Bounty of Geneticall...</td>\n",
       "      <td>46</td>\n",
       "      <td>38</td>\n",
       "      <td>62</td>\n",
       "    </tr>\n",
       "    <tr>\n",
       "      <th>5</th>\n",
       "      <td>Total Nightmare: USB-C and Thunderbolt 3</td>\n",
       "      <td>650</td>\n",
       "      <td>355</td>\n",
       "      <td>40</td>\n",
       "    </tr>\n",
       "    <tr>\n",
       "      <th>6</th>\n",
       "      <td>Thomas Piketty's Capital in the 21st Century, ...</td>\n",
       "      <td>217</td>\n",
       "      <td>144</td>\n",
       "      <td>67</td>\n",
       "    </tr>\n",
       "    <tr>\n",
       "      <th>7</th>\n",
       "      <td>Step-by-step tutorial to build a modern JavaSc...</td>\n",
       "      <td>217</td>\n",
       "      <td>121</td>\n",
       "      <td>69</td>\n",
       "    </tr>\n",
       "    <tr>\n",
       "      <th>8</th>\n",
       "      <td>Photographers of 1870s London Documented Their...</td>\n",
       "      <td>145</td>\n",
       "      <td>17</td>\n",
       "      <td>64</td>\n",
       "    </tr>\n",
       "    <tr>\n",
       "      <th>9</th>\n",
       "      <td>Frink â A practical calculating tool and pro...</td>\n",
       "      <td>72</td>\n",
       "      <td>11</td>\n",
       "      <td>63</td>\n",
       "    </tr>\n",
       "    <tr>\n",
       "      <th>10</th>\n",
       "      <td>Something magical happened to me today, and I ...</td>\n",
       "      <td>49</td>\n",
       "      <td>14</td>\n",
       "      <td>77</td>\n",
       "    </tr>\n",
       "    <tr>\n",
       "      <th>11</th>\n",
       "      <td>GraphicsMagick Image Processing System</td>\n",
       "      <td>139</td>\n",
       "      <td>37</td>\n",
       "      <td>38</td>\n",
       "    </tr>\n",
       "    <tr>\n",
       "      <th>12</th>\n",
       "      <td>Dear Matt Mullenweg: An Open Letter from Wix.c...</td>\n",
       "      <td>140</td>\n",
       "      <td>88</td>\n",
       "      <td>73</td>\n",
       "    </tr>\n",
       "    <tr>\n",
       "      <th>13</th>\n",
       "      <td>ICANNâs First Test of Accountability</td>\n",
       "      <td>75</td>\n",
       "      <td>18</td>\n",
       "      <td>38</td>\n",
       "    </tr>\n",
       "    <tr>\n",
       "      <th>14</th>\n",
       "      <td>Yasha Levine: Interview about Tor, spies and t...</td>\n",
       "      <td>14</td>\n",
       "      <td>4</td>\n",
       "      <td>63</td>\n",
       "    </tr>\n",
       "    <tr>\n",
       "      <th>15</th>\n",
       "      <td>Universal adversarial perturbations</td>\n",
       "      <td>83</td>\n",
       "      <td>29</td>\n",
       "      <td>35</td>\n",
       "    </tr>\n",
       "    <tr>\n",
       "      <th>16</th>\n",
       "      <td>ESPN Loses 621,000 Subscribers; Worst Month in...</td>\n",
       "      <td>286</td>\n",
       "      <td>360</td>\n",
       "      <td>62</td>\n",
       "    </tr>\n",
       "    <tr>\n",
       "      <th>17</th>\n",
       "      <td>The Science of Eggs</td>\n",
       "      <td>39</td>\n",
       "      <td>13</td>\n",
       "      <td>19</td>\n",
       "    </tr>\n",
       "    <tr>\n",
       "      <th>18</th>\n",
       "      <td>Strategies of Human Mating (2006) [pdf]</td>\n",
       "      <td>83</td>\n",
       "      <td>33</td>\n",
       "      <td>39</td>\n",
       "    </tr>\n",
       "    <tr>\n",
       "      <th>19</th>\n",
       "      <td>Seattle: Highest Minimum Wage, Lowest Unemploy...</td>\n",
       "      <td>91</td>\n",
       "      <td>46</td>\n",
       "      <td>55</td>\n",
       "    </tr>\n",
       "    <tr>\n",
       "      <th>20</th>\n",
       "      <td>Is Vue.js easier for a beginner to learn than ...</td>\n",
       "      <td>4</td>\n",
       "      <td>6</td>\n",
       "      <td>53</td>\n",
       "    </tr>\n",
       "    <tr>\n",
       "      <th>21</th>\n",
       "      <td>Turned down 18 times. Then Paul Beatty won the...</td>\n",
       "      <td>37</td>\n",
       "      <td>6</td>\n",
       "      <td>53</td>\n",
       "    </tr>\n",
       "    <tr>\n",
       "      <th>22</th>\n",
       "      <td>EasyMVP â Android library with annotation pr...</td>\n",
       "      <td>48</td>\n",
       "      <td>5</td>\n",
       "      <td>75</td>\n",
       "    </tr>\n",
       "    <tr>\n",
       "      <th>23</th>\n",
       "      <td>Show HN: React-decoration â A collection of ...</td>\n",
       "      <td>36</td>\n",
       "      <td>89</td>\n",
       "      <td>77</td>\n",
       "    </tr>\n",
       "    <tr>\n",
       "      <th>24</th>\n",
       "      <td>A Map of the World Won Japanâs Prestigious D...</td>\n",
       "      <td>210</td>\n",
       "      <td>2</td>\n",
       "      <td>57</td>\n",
       "    </tr>\n",
       "    <tr>\n",
       "      <th>25</th>\n",
       "      <td>A Learned Representation for Artistic Style</td>\n",
       "      <td>37</td>\n",
       "      <td>3</td>\n",
       "      <td>43</td>\n",
       "    </tr>\n",
       "    <tr>\n",
       "      <th>26</th>\n",
       "      <td>AMD 2013 APUs to Include ARM Cortex-A5 Process...</td>\n",
       "      <td>40</td>\n",
       "      <td>236</td>\n",
       "      <td>75</td>\n",
       "    </tr>\n",
       "    <tr>\n",
       "      <th>27</th>\n",
       "      <td>How I Became HackerRank 1 in Two Hours</td>\n",
       "      <td>262</td>\n",
       "      <td>292</td>\n",
       "      <td>38</td>\n",
       "    </tr>\n",
       "    <tr>\n",
       "      <th>28</th>\n",
       "      <td>Powerwall 2 and Integrated Solar</td>\n",
       "      <td>470</td>\n",
       "      <td>361</td>\n",
       "      <td>32</td>\n",
       "    </tr>\n",
       "  </tbody>\n",
       "</table>\n",
       "</div>"
      ],
      "text/plain": [
       "                                                Title  Points  # Comments  \\\n",
       "0   DMCA exemptions for modifications and research...     163          35   \n",
       "1                     Donât go to art school (2013)     205         137   \n",
       "2   Adaptive Hardware: Context Aware Interfaces (2...      85          28   \n",
       "3   Intel driven MacBook Pros have secondary ARM p...     229         105   \n",
       "4   Doubts About the Promised Bounty of Geneticall...      46          38   \n",
       "5            Total Nightmare: USB-C and Thunderbolt 3     650         355   \n",
       "6   Thomas Piketty's Capital in the 21st Century, ...     217         144   \n",
       "7   Step-by-step tutorial to build a modern JavaSc...     217         121   \n",
       "8   Photographers of 1870s London Documented Their...     145          17   \n",
       "9   Frink â A practical calculating tool and pro...      72          11   \n",
       "10  Something magical happened to me today, and I ...      49          14   \n",
       "11             GraphicsMagick Image Processing System     139          37   \n",
       "12  Dear Matt Mullenweg: An Open Letter from Wix.c...     140          88   \n",
       "13             ICANNâs First Test of Accountability      75          18   \n",
       "14  Yasha Levine: Interview about Tor, spies and t...      14           4   \n",
       "15                Universal adversarial perturbations      83          29   \n",
       "16  ESPN Loses 621,000 Subscribers; Worst Month in...     286         360   \n",
       "17                                The Science of Eggs      39          13   \n",
       "18            Strategies of Human Mating (2006) [pdf]      83          33   \n",
       "19  Seattle: Highest Minimum Wage, Lowest Unemploy...      91          46   \n",
       "20  Is Vue.js easier for a beginner to learn than ...       4           6   \n",
       "21  Turned down 18 times. Then Paul Beatty won the...      37           6   \n",
       "22  EasyMVP â Android library with annotation pr...      48           5   \n",
       "23  Show HN: React-decoration â A collection of ...      36          89   \n",
       "24  A Map of the World Won Japanâs Prestigious D...     210           2   \n",
       "25        A Learned Representation for Artistic Style      37           3   \n",
       "26  AMD 2013 APUs to Include ARM Cortex-A5 Process...      40         236   \n",
       "27             How I Became HackerRank 1 in Two Hours     262         292   \n",
       "28                   Powerwall 2 and Integrated Solar     470         361   \n",
       "\n",
       "    Title Length  \n",
       "0             79  \n",
       "1             31  \n",
       "2             50  \n",
       "3             80  \n",
       "4             62  \n",
       "5             40  \n",
       "6             67  \n",
       "7             69  \n",
       "8             64  \n",
       "9             63  \n",
       "10            77  \n",
       "11            38  \n",
       "12            73  \n",
       "13            38  \n",
       "14            63  \n",
       "15            35  \n",
       "16            62  \n",
       "17            19  \n",
       "18            39  \n",
       "19            55  \n",
       "20            53  \n",
       "21            53  \n",
       "22            75  \n",
       "23            77  \n",
       "24            57  \n",
       "25            43  \n",
       "26            75  \n",
       "27            38  \n",
       "28            32  "
      ]
     },
     "execution_count": 157,
     "metadata": {},
     "output_type": "execute_result"
    }
   ],
   "source": [
    "df = pd.DataFrame(zip(iposts, ipoints, icomments, countposts))\n",
    "df['Title'] = df[0]\n",
    "df['Points'] = df[1]\n",
    "df['# Comments'] = df[2]\n",
    "df['Title Length'] = df[3]\n",
    "df = df[['Title', 'Points', '# Comments', 'Title Length']]\n",
    "df"
   ]
  },
  {
   "cell_type": "code",
   "execution_count": 159,
   "metadata": {
    "collapsed": false
   },
   "outputs": [
    {
     "data": {
      "text/html": [
       "<div>\n",
       "<table border=\"1\" class=\"dataframe\">\n",
       "  <thead>\n",
       "    <tr style=\"text-align: right;\">\n",
       "      <th></th>\n",
       "      <th>Title</th>\n",
       "      <th>Points</th>\n",
       "      <th># Comments</th>\n",
       "      <th>Title Length</th>\n",
       "    </tr>\n",
       "  </thead>\n",
       "  <tbody>\n",
       "    <tr>\n",
       "      <th>3</th>\n",
       "      <td>Intel driven MacBook Pros have secondary ARM p...</td>\n",
       "      <td>229</td>\n",
       "      <td>105</td>\n",
       "      <td>80</td>\n",
       "    </tr>\n",
       "    <tr>\n",
       "      <th>0</th>\n",
       "      <td>DMCA exemptions for modifications and research...</td>\n",
       "      <td>163</td>\n",
       "      <td>35</td>\n",
       "      <td>79</td>\n",
       "    </tr>\n",
       "    <tr>\n",
       "      <th>10</th>\n",
       "      <td>Something magical happened to me today, and I ...</td>\n",
       "      <td>49</td>\n",
       "      <td>14</td>\n",
       "      <td>77</td>\n",
       "    </tr>\n",
       "    <tr>\n",
       "      <th>23</th>\n",
       "      <td>Show HN: React-decoration â A collection of ...</td>\n",
       "      <td>36</td>\n",
       "      <td>89</td>\n",
       "      <td>77</td>\n",
       "    </tr>\n",
       "    <tr>\n",
       "      <th>26</th>\n",
       "      <td>AMD 2013 APUs to Include ARM Cortex-A5 Process...</td>\n",
       "      <td>40</td>\n",
       "      <td>236</td>\n",
       "      <td>75</td>\n",
       "    </tr>\n",
       "    <tr>\n",
       "      <th>22</th>\n",
       "      <td>EasyMVP â Android library with annotation pr...</td>\n",
       "      <td>48</td>\n",
       "      <td>5</td>\n",
       "      <td>75</td>\n",
       "    </tr>\n",
       "    <tr>\n",
       "      <th>12</th>\n",
       "      <td>Dear Matt Mullenweg: An Open Letter from Wix.c...</td>\n",
       "      <td>140</td>\n",
       "      <td>88</td>\n",
       "      <td>73</td>\n",
       "    </tr>\n",
       "    <tr>\n",
       "      <th>7</th>\n",
       "      <td>Step-by-step tutorial to build a modern JavaSc...</td>\n",
       "      <td>217</td>\n",
       "      <td>121</td>\n",
       "      <td>69</td>\n",
       "    </tr>\n",
       "    <tr>\n",
       "      <th>6</th>\n",
       "      <td>Thomas Piketty's Capital in the 21st Century, ...</td>\n",
       "      <td>217</td>\n",
       "      <td>144</td>\n",
       "      <td>67</td>\n",
       "    </tr>\n",
       "    <tr>\n",
       "      <th>8</th>\n",
       "      <td>Photographers of 1870s London Documented Their...</td>\n",
       "      <td>145</td>\n",
       "      <td>17</td>\n",
       "      <td>64</td>\n",
       "    </tr>\n",
       "  </tbody>\n",
       "</table>\n",
       "</div>"
      ],
      "text/plain": [
       "                                                Title  Points  # Comments  \\\n",
       "3   Intel driven MacBook Pros have secondary ARM p...     229         105   \n",
       "0   DMCA exemptions for modifications and research...     163          35   \n",
       "10  Something magical happened to me today, and I ...      49          14   \n",
       "23  Show HN: React-decoration â A collection of ...      36          89   \n",
       "26  AMD 2013 APUs to Include ARM Cortex-A5 Process...      40         236   \n",
       "22  EasyMVP â Android library with annotation pr...      48           5   \n",
       "12  Dear Matt Mullenweg: An Open Letter from Wix.c...     140          88   \n",
       "7   Step-by-step tutorial to build a modern JavaSc...     217         121   \n",
       "6   Thomas Piketty's Capital in the 21st Century, ...     217         144   \n",
       "8   Photographers of 1870s London Documented Their...     145          17   \n",
       "\n",
       "    Title Length  \n",
       "3             80  \n",
       "0             79  \n",
       "10            77  \n",
       "23            77  \n",
       "26            75  \n",
       "22            75  \n",
       "12            73  \n",
       "7             69  \n",
       "6             67  \n",
       "8             64  "
      ]
     },
     "execution_count": 159,
     "metadata": {},
     "output_type": "execute_result"
    }
   ],
   "source": [
    "df.sort_values('Title Length', axis=0, ascending=False, inplace=False, kind='quicksort', na_position='last').head(10)"
   ]
  },
  {
   "cell_type": "markdown",
   "metadata": {},
   "source": [
    "## Q 2: Explain how articles get ranked & pushed to frontpage of Hacker News (https://news.ycombinator.com/)"
   ]
  },
  {
   "cell_type": "code",
   "execution_count": 160,
   "metadata": {
    "collapsed": false
   },
   "outputs": [
    {
     "data": {
      "text/html": [
       "<div>\n",
       "<table border=\"1\" class=\"dataframe\">\n",
       "  <thead>\n",
       "    <tr style=\"text-align: right;\">\n",
       "      <th></th>\n",
       "      <th>Points</th>\n",
       "      <th># Comments</th>\n",
       "      <th>Title Length</th>\n",
       "    </tr>\n",
       "  </thead>\n",
       "  <tbody>\n",
       "    <tr>\n",
       "      <th>Points</th>\n",
       "      <td>1.000000</td>\n",
       "      <td>0.791523</td>\n",
       "      <td>-0.211419</td>\n",
       "    </tr>\n",
       "    <tr>\n",
       "      <th># Comments</th>\n",
       "      <td>0.791523</td>\n",
       "      <td>1.000000</td>\n",
       "      <td>-0.126189</td>\n",
       "    </tr>\n",
       "    <tr>\n",
       "      <th>Title Length</th>\n",
       "      <td>-0.211419</td>\n",
       "      <td>-0.126189</td>\n",
       "      <td>1.000000</td>\n",
       "    </tr>\n",
       "  </tbody>\n",
       "</table>\n",
       "</div>"
      ],
      "text/plain": [
       "                Points  # Comments  Title Length\n",
       "Points        1.000000    0.791523     -0.211419\n",
       "# Comments    0.791523    1.000000     -0.126189\n",
       "Title Length -0.211419   -0.126189      1.000000"
      ]
     },
     "execution_count": 160,
     "metadata": {},
     "output_type": "execute_result"
    }
   ],
   "source": [
    "df.corr()"
   ]
  },
  {
   "cell_type": "markdown",
   "metadata": {},
   "source": [
    "#### As the ranking of the posts are not related here to the points or the number of comments or length of the title, it could be ranked by either the time or the frequency of the posts by the author."
   ]
  },
  {
   "cell_type": "code",
   "execution_count": null,
   "metadata": {
    "collapsed": true
   },
   "outputs": [],
   "source": []
  }
 ],
 "metadata": {
  "kernelspec": {
   "display_name": "Python 2",
   "language": "python",
   "name": "python2"
  },
  "language_info": {
   "codemirror_mode": {
    "name": "ipython",
    "version": 2
   },
   "file_extension": ".py",
   "mimetype": "text/x-python",
   "name": "python",
   "nbconvert_exporter": "python",
   "pygments_lexer": "ipython2",
   "version": "2.7.11"
  }
 },
 "nbformat": 4,
 "nbformat_minor": 0
}
