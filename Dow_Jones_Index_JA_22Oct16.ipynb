{
 "cells": [
  {
   "cell_type": "markdown",
   "metadata": {},
   "source": [
    "# Dow Jones Index : Correlation\n",
    "### - John Antony (W1189757)"
   ]
  },
  {
   "cell_type": "markdown",
   "metadata": {},
   "source": [
    "## Importing Libraries"
   ]
  },
  {
   "cell_type": "code",
   "execution_count": 219,
   "metadata": {
    "collapsed": false
   },
   "outputs": [
    {
     "name": "stdout",
     "output_type": "stream",
     "text": [
      "Populating the interactive namespace from numpy and matplotlib\n"
     ]
    }
   ],
   "source": [
    "import pandas as pd\n",
    "from pandas import DataFrame as df\n",
    "import pandas.io.data as web\n",
    "import pandas_datareader.data as web\n",
    "import datetime  \n",
    "import matplotlib.pyplot as plt\n",
    "import numpy as nm\n",
    "%pylab inline"
   ]
  },
  {
   "cell_type": "markdown",
   "metadata": {},
   "source": [
    "##### Trial to get ticker infromation with a start and end date"
   ]
  },
  {
   "cell_type": "code",
   "execution_count": 220,
   "metadata": {
    "collapsed": false
   },
   "outputs": [],
   "source": [
    "# start = datetime.datetime(2013, 1, 1)\n",
    "# end = datetime.datetime(2016, 1, 27)\n",
    "# df = web.DataReader(\"GOOGL\", 'yahoo', start, end)\n",
    "\n",
    "# dates =[]\n",
    "# for x in range(len(df)):\n",
    "#     newdate = str(df.index[x])\n",
    "#     newdate = newdate[0:10]\n",
    "#     dates.append(newdate)\n",
    "\n",
    "# df['dates'] = dates\n",
    "\n",
    "# print df.head()\n",
    "# print df.tail()"
   ]
  },
  {
   "cell_type": "code",
   "execution_count": 221,
   "metadata": {
    "collapsed": false
   },
   "outputs": [],
   "source": [
    "# all_data = {}\n",
    "# for ticker in ['AAPL', 'IBM', 'MSFT', 'GOOG']:\n",
    "#     try:\n",
    "#         all_data[ticker] = web.get_data_yahoo(ticker, '1/1/2003', '1/1/2013')\n",
    "#         price = DataFrame({tic: data['Adj Close']\n",
    "#                     for tic, data in all_data.iteritems()})\n",
    "#         volume = DataFrame({tic: data['Volume']\n",
    "#                     for tic, data in all_data.iteritems()})\n",
    "#     except:\n",
    "#         print \"Cant find \", ticker"
   ]
  },
  {
   "cell_type": "markdown",
   "metadata": {},
   "source": [
    "### Checking Ticket and Saving for - DJIA"
   ]
  },
  {
   "cell_type": "code",
   "execution_count": 222,
   "metadata": {
    "collapsed": true
   },
   "outputs": [],
   "source": [
    "tickdata={}"
   ]
  },
  {
   "cell_type": "code",
   "execution_count": 223,
   "metadata": {
    "collapsed": true
   },
   "outputs": [],
   "source": [
    "for ticket in ['DJIA']:\n",
    "    tickdata[ticket]=web.get_data_yahoo(ticket)\n",
    "    \n",
    "djia=df({tic:data['Adj Close']\n",
    "                for tic, data in tickdata.iteritems()})"
   ]
  },
  {
   "cell_type": "code",
   "execution_count": 224,
   "metadata": {
    "collapsed": false
   },
   "outputs": [
    {
     "data": {
      "text/html": [
       "<div>\n",
       "<table border=\"1\" class=\"dataframe\">\n",
       "  <thead>\n",
       "    <tr style=\"text-align: right;\">\n",
       "      <th></th>\n",
       "      <th>DJIA</th>\n",
       "    </tr>\n",
       "    <tr>\n",
       "      <th>Date</th>\n",
       "      <th></th>\n",
       "    </tr>\n",
       "  </thead>\n",
       "  <tbody>\n",
       "    <tr>\n",
       "      <th>2010-01-04</th>\n",
       "      <td>10583.959961</td>\n",
       "    </tr>\n",
       "    <tr>\n",
       "      <th>2010-01-05</th>\n",
       "      <td>10572.019531</td>\n",
       "    </tr>\n",
       "    <tr>\n",
       "      <th>2010-01-06</th>\n",
       "      <td>10573.679688</td>\n",
       "    </tr>\n",
       "    <tr>\n",
       "      <th>2010-01-07</th>\n",
       "      <td>10606.860352</td>\n",
       "    </tr>\n",
       "    <tr>\n",
       "      <th>2010-01-08</th>\n",
       "      <td>10618.190430</td>\n",
       "    </tr>\n",
       "  </tbody>\n",
       "</table>\n",
       "</div>"
      ],
      "text/plain": [
       "                    DJIA\n",
       "Date                    \n",
       "2010-01-04  10583.959961\n",
       "2010-01-05  10572.019531\n",
       "2010-01-06  10573.679688\n",
       "2010-01-07  10606.860352\n",
       "2010-01-08  10618.190430"
      ]
     },
     "execution_count": 224,
     "metadata": {},
     "output_type": "execute_result"
    }
   ],
   "source": [
    "djia.head()"
   ]
  },
  {
   "cell_type": "code",
   "execution_count": 225,
   "metadata": {
    "collapsed": false
   },
   "outputs": [
    {
     "data": {
      "text/plain": [
       "(1714, 1)"
      ]
     },
     "execution_count": 225,
     "metadata": {},
     "output_type": "execute_result"
    }
   ],
   "source": [
    "djia.shape"
   ]
  },
  {
   "cell_type": "markdown",
   "metadata": {},
   "source": [
    "### Checking Ticket and Saving for - 30 Tickers"
   ]
  },
  {
   "cell_type": "code",
   "execution_count": 226,
   "metadata": {
    "collapsed": false
   },
   "outputs": [],
   "source": [
    "for ticket in  ['MSFT', 'PFE', 'MCD', 'UTX', 'DD', 'MMM', 'MRK', 'KO', 'WMT', 'HD', 'AAPL', 'CSCO', \\\n",
    "                'IBM', 'VZ', 'JNJ', 'GE', 'XOM', 'CVX', 'DIS', 'UNH', 'JPM', 'NKE', 'BA', 'CAT', 'TRV',\\\n",
    "                'GS', 'PG', 'V', 'AXP', 'INTC']:\n",
    "    tickdata[ticket]=web.get_data_yahoo(ticket)"
   ]
  },
  {
   "cell_type": "markdown",
   "metadata": {},
   "source": [
    "## Q 1. List of Dow companies' stock symbols"
   ]
  },
  {
   "cell_type": "code",
   "execution_count": 227,
   "metadata": {
    "collapsed": false
   },
   "outputs": [
    {
     "data": {
      "text/plain": [
       "Index([u'AAPL', u'AXP', u'BA', u'CAT', u'CSCO', u'CVX', u'DD', u'DIS', u'DJIA',\n",
       "       u'GE', u'GS', u'HD', u'IBM', u'INTC', u'JNJ', u'JPM', u'KO', u'MCD',\n",
       "       u'MMM', u'MRK', u'MSFT', u'NKE', u'PFE', u'PG', u'TRV', u'UNH', u'UTX',\n",
       "       u'V', u'VZ', u'WMT', u'XOM'],\n",
       "      dtype='object')"
      ]
     },
     "execution_count": 227,
     "metadata": {},
     "output_type": "execute_result"
    }
   ],
   "source": [
    "dowlist = df({tic:data['Adj Close']\n",
    "                for tic, data in tickdata.iteritems()})\n",
    "dowlist.columns"
   ]
  },
  {
   "cell_type": "code",
   "execution_count": 228,
   "metadata": {
    "collapsed": false
   },
   "outputs": [],
   "source": [
    "dowlist[\"Sum\"] = 0"
   ]
  },
  {
   "cell_type": "code",
   "execution_count": 229,
   "metadata": {
    "collapsed": false
   },
   "outputs": [],
   "source": [
    "dowlist = pd.Series(dowlist.sum(axis=1))"
   ]
  },
  {
   "cell_type": "code",
   "execution_count": 230,
   "metadata": {
    "collapsed": false
   },
   "outputs": [
    {
     "data": {
      "text/plain": [
       "pandas.core.series.Series"
      ]
     },
     "execution_count": 230,
     "metadata": {},
     "output_type": "execute_result"
    }
   ],
   "source": [
    "type(dowlist)"
   ]
  },
  {
   "cell_type": "markdown",
   "metadata": {},
   "source": [
    "## Q 2. Correlation value from your index to the actual Dow value"
   ]
  },
  {
   "cell_type": "code",
   "execution_count": 231,
   "metadata": {
    "collapsed": false
   },
   "outputs": [
    {
     "data": {
      "text/plain": [
       "0.99993702554784514"
      ]
     },
     "execution_count": 231,
     "metadata": {},
     "output_type": "execute_result"
    }
   ],
   "source": [
    "dowlist.corr(djia.DJIA)"
   ]
  },
  {
   "cell_type": "markdown",
   "metadata": {
    "collapsed": true
   },
   "source": [
    "## Q 3. Why is this value not exactly 1?  What would be needed to make this value 1?"
   ]
  },
  {
   "cell_type": "markdown",
   "metadata": {},
   "source": [
    "#### The summation of the 30 Indexes across may have small errors of least count when compared to DJIA. This is exhibited by the correlation factor 0.9999. \n",
    "\n",
    "#### In order to make this value 1, we need to have get the exact values in \"dowlist\" as compared to \"djia\". "
   ]
  }
 ],
 "metadata": {
  "kernelspec": {
   "display_name": "Python 2",
   "language": "python",
   "name": "python2"
  },
  "language_info": {
   "codemirror_mode": {
    "name": "ipython",
    "version": 2
   },
   "file_extension": ".py",
   "mimetype": "text/x-python",
   "name": "python",
   "nbconvert_exporter": "python",
   "pygments_lexer": "ipython2",
   "version": "2.7.11"
  }
 },
 "nbformat": 4,
 "nbformat_minor": 1
}
