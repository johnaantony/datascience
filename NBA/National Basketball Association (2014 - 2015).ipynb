{
 "cells": [
  {
   "cell_type": "markdown",
   "metadata": {},
   "source": [
    "# National Basketbal Association (2014 - 2015)"
   ]
  },
  {
   "cell_type": "markdown",
   "metadata": {},
   "source": [
    "###### Importing Packages"
   ]
  },
  {
   "cell_type": "code",
   "execution_count": 758,
   "metadata": {
    "collapsed": false
   },
   "outputs": [
    {
     "data": {
      "text/html": [
       "\n",
       "    <div class=\"bk-root\">\n",
       "        <a href=\"http://bokeh.pydata.org\" target=\"_blank\" class=\"bk-logo bk-logo-small bk-logo-notebook\"></a>\n",
       "        <span id=\"5b7c25c5-fbd4-45f2-892a-4e7b792af13b\">Loading BokehJS ...</span>\n",
       "    </div>"
      ]
     },
     "metadata": {},
     "output_type": "display_data"
    },
    {
     "data": {
      "application/javascript": [
       "\n",
       "(function(global) {\n",
       "  function now() {\n",
       "    return new Date();\n",
       "  }\n",
       "\n",
       "  var force = \"1\";\n",
       "\n",
       "  if (typeof (window._bokeh_onload_callbacks) === \"undefined\" || force !== \"\") {\n",
       "    window._bokeh_onload_callbacks = [];\n",
       "    window._bokeh_is_loading = undefined;\n",
       "  }\n",
       "\n",
       "  function run_callbacks() {\n",
       "    window._bokeh_onload_callbacks.forEach(function(callback) { callback() });\n",
       "    delete window._bokeh_onload_callbacks\n",
       "    console.info(\"Bokeh: all callbacks have finished\");\n",
       "  }\n",
       "\n",
       "  function load_libs(js_urls, callback) {\n",
       "    window._bokeh_onload_callbacks.push(callback);\n",
       "    if (window._bokeh_is_loading > 0) {\n",
       "      console.log(\"Bokeh: BokehJS is being loaded, scheduling callback at\", now());\n",
       "      return null;\n",
       "    }\n",
       "    if (js_urls == null || js_urls.length === 0) {\n",
       "      run_callbacks();\n",
       "      return null;\n",
       "    }\n",
       "    console.log(\"Bokeh: BokehJS not loaded, scheduling load and callback at\", now());\n",
       "    window._bokeh_is_loading = js_urls.length;\n",
       "    for (var i = 0; i < js_urls.length; i++) {\n",
       "      var url = js_urls[i];\n",
       "      var s = document.createElement('script');\n",
       "      s.src = url;\n",
       "      s.async = false;\n",
       "      s.onreadystatechange = s.onload = function() {\n",
       "        window._bokeh_is_loading--;\n",
       "        if (window._bokeh_is_loading === 0) {\n",
       "          console.log(\"Bokeh: all BokehJS libraries loaded\");\n",
       "          run_callbacks()\n",
       "        }\n",
       "      };\n",
       "      s.onerror = function() {\n",
       "        console.warn(\"failed to load library \" + url);\n",
       "      };\n",
       "      console.log(\"Bokeh: injecting script tag for BokehJS library: \", url);\n",
       "      document.getElementsByTagName(\"head\")[0].appendChild(s);\n",
       "    }\n",
       "  };\n",
       "\n",
       "  var js_urls = ['https://cdn.pydata.org/bokeh/release/bokeh-0.12.1.min.js', 'https://cdn.pydata.org/bokeh/release/bokeh-widgets-0.12.1.min.js', 'https://cdn.pydata.org/bokeh/release/bokeh-compiler-0.12.1.min.js'];\n",
       "\n",
       "  var inline_js = [\n",
       "    function(Bokeh) {\n",
       "      Bokeh.set_log_level(\"info\");\n",
       "    },\n",
       "    \n",
       "    function(Bokeh) {\n",
       "      \n",
       "      Bokeh.$(\"#5b7c25c5-fbd4-45f2-892a-4e7b792af13b\").text(\"BokehJS successfully loaded\");\n",
       "      var kernel = Jupyter.notebook.kernel\n",
       "      if (kernel.execute !== undefined) {\n",
       "          kernel.execute(\"import bokeh.io; bokeh.io._nb_loaded = True\");\n",
       "      }\n",
       "    },\n",
       "    function(Bokeh) {\n",
       "      console.log(\"Bokeh: injecting CSS: https://cdn.pydata.org/bokeh/release/bokeh-0.12.1.min.css\");\n",
       "      Bokeh.embed.inject_css(\"https://cdn.pydata.org/bokeh/release/bokeh-0.12.1.min.css\");\n",
       "      console.log(\"Bokeh: injecting CSS: https://cdn.pydata.org/bokeh/release/bokeh-widgets-0.12.1.min.css\");\n",
       "      Bokeh.embed.inject_css(\"https://cdn.pydata.org/bokeh/release/bokeh-widgets-0.12.1.min.css\");\n",
       "    }\n",
       "  ];\n",
       "\n",
       "  function run_inline_js() {\n",
       "    for (var i = 0; i < inline_js.length; i++) {\n",
       "      inline_js[i](window.Bokeh);\n",
       "    }\n",
       "  }\n",
       "\n",
       "  if (window._bokeh_is_loading === 0) {\n",
       "    console.log(\"Bokeh: BokehJS loaded, going straight to plotting\");\n",
       "    run_inline_js();\n",
       "  } else {\n",
       "    load_libs(js_urls, function() {\n",
       "      console.log(\"Bokeh: BokehJS plotting callback run at\", now());\n",
       "      run_inline_js();\n",
       "    });\n",
       "  }\n",
       "}(this));"
      ]
     },
     "metadata": {},
     "output_type": "display_data"
    }
   ],
   "source": [
    "import pandas as pd\n",
    "from bokeh.plotting import figure, ColumnDataSource, show\n",
    "from bokeh.models import HoverTool\n",
    "from bokeh.io import output_notebook\n",
    "import matplotlib.pyplot as plt\n",
    "import seaborn as sns\n",
    "import numpy as np\n",
    "sns.set(context=\"paper\", font=\"monospace\")\n",
    "from numpy import corrcoef, sum, log, arange\n",
    "from numpy.random import rand\n",
    "from pylab import pcolor, show, colorbar, xticks, yticks\n",
    "\n",
    "import requests\n",
    "from lxml import html\n",
    "\n",
    "%matplotlib inline\n",
    "output_notebook()"
   ]
  },
  {
   "cell_type": "markdown",
   "metadata": {},
   "source": [
    "###### Importing csv and understanding the DataFrame basics"
   ]
  },
  {
   "cell_type": "code",
   "execution_count": 759,
   "metadata": {
    "collapsed": false
   },
   "outputs": [
    {
     "data": {
      "text/plain": [
       "(128069, 21)"
      ]
     },
     "execution_count": 759,
     "metadata": {},
     "output_type": "execute_result"
    }
   ],
   "source": [
    "main_df = pd.read_csv('input/shot_logs.csv', header=0)\n",
    "main_df.shape"
   ]
  },
  {
   "cell_type": "code",
   "execution_count": 760,
   "metadata": {
    "collapsed": false
   },
   "outputs": [
    {
     "data": {
      "text/plain": [
       "Index([u'GAME_ID', u'MATCHUP', u'LOCATION', u'W', u'FINAL_MARGIN',\n",
       "       u'SHOT_NUMBER', u'PERIOD', u'GAME_CLOCK', u'SHOT_CLOCK', u'DRIBBLES',\n",
       "       u'TOUCH_TIME', u'SHOT_DIST', u'PTS_TYPE', u'SHOT_RESULT',\n",
       "       u'CLOSEST_DEFENDER', u'CLOSEST_DEFENDER_PLAYER_ID', u'CLOSE_DEF_DIST',\n",
       "       u'FGM', u'PTS', u'player_name', u'player_id'],\n",
       "      dtype='object')"
      ]
     },
     "execution_count": 760,
     "metadata": {},
     "output_type": "execute_result"
    }
   ],
   "source": [
    "main_df.columns"
   ]
  },
  {
   "cell_type": "code",
   "execution_count": 761,
   "metadata": {
    "collapsed": false
   },
   "outputs": [
    {
     "data": {
      "text/html": [
       "<div>\n",
       "<table border=\"1\" class=\"dataframe\">\n",
       "  <thead>\n",
       "    <tr style=\"text-align: right;\">\n",
       "      <th></th>\n",
       "      <th>GAME_ID</th>\n",
       "      <th>MATCHUP</th>\n",
       "      <th>LOCATION</th>\n",
       "      <th>W</th>\n",
       "      <th>FINAL_MARGIN</th>\n",
       "      <th>SHOT_NUMBER</th>\n",
       "      <th>PERIOD</th>\n",
       "      <th>GAME_CLOCK</th>\n",
       "      <th>SHOT_CLOCK</th>\n",
       "      <th>DRIBBLES</th>\n",
       "      <th>...</th>\n",
       "      <th>SHOT_DIST</th>\n",
       "      <th>PTS_TYPE</th>\n",
       "      <th>SHOT_RESULT</th>\n",
       "      <th>CLOSEST_DEFENDER</th>\n",
       "      <th>CLOSEST_DEFENDER_PLAYER_ID</th>\n",
       "      <th>CLOSE_DEF_DIST</th>\n",
       "      <th>FGM</th>\n",
       "      <th>PTS</th>\n",
       "      <th>player_name</th>\n",
       "      <th>player_id</th>\n",
       "    </tr>\n",
       "  </thead>\n",
       "  <tbody>\n",
       "    <tr>\n",
       "      <th>0</th>\n",
       "      <td>21400899</td>\n",
       "      <td>MAR 04, 2015 - CHA @ BKN</td>\n",
       "      <td>A</td>\n",
       "      <td>W</td>\n",
       "      <td>24</td>\n",
       "      <td>1</td>\n",
       "      <td>1</td>\n",
       "      <td>1:09</td>\n",
       "      <td>10.8</td>\n",
       "      <td>2</td>\n",
       "      <td>...</td>\n",
       "      <td>7.7</td>\n",
       "      <td>2</td>\n",
       "      <td>made</td>\n",
       "      <td>Anderson, Alan</td>\n",
       "      <td>101187</td>\n",
       "      <td>1.3</td>\n",
       "      <td>1</td>\n",
       "      <td>2</td>\n",
       "      <td>brian roberts</td>\n",
       "      <td>203148</td>\n",
       "    </tr>\n",
       "    <tr>\n",
       "      <th>1</th>\n",
       "      <td>21400899</td>\n",
       "      <td>MAR 04, 2015 - CHA @ BKN</td>\n",
       "      <td>A</td>\n",
       "      <td>W</td>\n",
       "      <td>24</td>\n",
       "      <td>2</td>\n",
       "      <td>1</td>\n",
       "      <td>0:14</td>\n",
       "      <td>3.4</td>\n",
       "      <td>0</td>\n",
       "      <td>...</td>\n",
       "      <td>28.2</td>\n",
       "      <td>3</td>\n",
       "      <td>missed</td>\n",
       "      <td>Bogdanovic, Bojan</td>\n",
       "      <td>202711</td>\n",
       "      <td>6.1</td>\n",
       "      <td>0</td>\n",
       "      <td>0</td>\n",
       "      <td>brian roberts</td>\n",
       "      <td>203148</td>\n",
       "    </tr>\n",
       "  </tbody>\n",
       "</table>\n",
       "<p>2 rows × 21 columns</p>\n",
       "</div>"
      ],
      "text/plain": [
       "    GAME_ID                   MATCHUP LOCATION  W  FINAL_MARGIN  SHOT_NUMBER  \\\n",
       "0  21400899  MAR 04, 2015 - CHA @ BKN        A  W            24            1   \n",
       "1  21400899  MAR 04, 2015 - CHA @ BKN        A  W            24            2   \n",
       "\n",
       "   PERIOD GAME_CLOCK  SHOT_CLOCK  DRIBBLES    ...     SHOT_DIST  PTS_TYPE  \\\n",
       "0       1       1:09        10.8         2    ...           7.7         2   \n",
       "1       1       0:14         3.4         0    ...          28.2         3   \n",
       "\n",
       "   SHOT_RESULT   CLOSEST_DEFENDER CLOSEST_DEFENDER_PLAYER_ID  CLOSE_DEF_DIST  \\\n",
       "0         made     Anderson, Alan                     101187             1.3   \n",
       "1       missed  Bogdanovic, Bojan                     202711             6.1   \n",
       "\n",
       "   FGM  PTS    player_name player_id  \n",
       "0    1    2  brian roberts    203148  \n",
       "1    0    0  brian roberts    203148  \n",
       "\n",
       "[2 rows x 21 columns]"
      ]
     },
     "execution_count": 761,
     "metadata": {},
     "output_type": "execute_result"
    }
   ],
   "source": [
    "main_df.head(2)"
   ]
  },
  {
   "cell_type": "code",
   "execution_count": 762,
   "metadata": {
    "collapsed": false
   },
   "outputs": [
    {
     "data": {
      "text/plain": [
       "array([1, 2, 4, 3, 5, 6, 7])"
      ]
     },
     "execution_count": 762,
     "metadata": {},
     "output_type": "execute_result"
    }
   ],
   "source": [
    "main_df.PERIOD.unique()"
   ]
  },
  {
   "cell_type": "markdown",
   "metadata": {},
   "source": [
    "###### Filling Missing Values - NAN"
   ]
  },
  {
   "cell_type": "code",
   "execution_count": 763,
   "metadata": {
    "collapsed": false
   },
   "outputs": [],
   "source": [
    "main_df = main_df.fillna(0)"
   ]
  },
  {
   "cell_type": "markdown",
   "metadata": {},
   "source": [
    "###### Creating DataFrame of Players for Player Analysis"
   ]
  },
  {
   "cell_type": "code",
   "execution_count": 764,
   "metadata": {
    "collapsed": false
   },
   "outputs": [],
   "source": [
    "defplayer_df = pd.concat([main_df['CLOSEST_DEFENDER_PLAYER_ID'], main_df['CLOSEST_DEFENDER']], \\\n",
    "                         axis=1, keys=['PLAYER_ID', 'PLAYER'])\n",
    "defplayer_df = defplayer_df.drop_duplicates()"
   ]
  },
  {
   "cell_type": "code",
   "execution_count": 765,
   "metadata": {
    "collapsed": false
   },
   "outputs": [
    {
     "data": {
      "text/html": [
       "<div>\n",
       "<table border=\"1\" class=\"dataframe\">\n",
       "  <thead>\n",
       "    <tr style=\"text-align: right;\">\n",
       "      <th></th>\n",
       "      <th>PLAYER_ID</th>\n",
       "      <th>PLAYER</th>\n",
       "    </tr>\n",
       "  </thead>\n",
       "  <tbody>\n",
       "    <tr>\n",
       "      <th>0</th>\n",
       "      <td>203148</td>\n",
       "      <td>brian roberts</td>\n",
       "    </tr>\n",
       "    <tr>\n",
       "      <th>372</th>\n",
       "      <td>202687</td>\n",
       "      <td>bismack biyombo</td>\n",
       "    </tr>\n",
       "    <tr>\n",
       "      <th>486</th>\n",
       "      <td>2744</td>\n",
       "      <td>al jefferson</td>\n",
       "    </tr>\n",
       "    <tr>\n",
       "      <th>1286</th>\n",
       "      <td>203469</td>\n",
       "      <td>cody zeller</td>\n",
       "    </tr>\n",
       "    <tr>\n",
       "      <th>1641</th>\n",
       "      <td>202390</td>\n",
       "      <td>gary neal</td>\n",
       "    </tr>\n",
       "  </tbody>\n",
       "</table>\n",
       "</div>"
      ],
      "text/plain": [
       "      PLAYER_ID           PLAYER\n",
       "0        203148    brian roberts\n",
       "372      202687  bismack biyombo\n",
       "486        2744     al jefferson\n",
       "1286     203469      cody zeller\n",
       "1641     202390        gary neal"
      ]
     },
     "execution_count": 765,
     "metadata": {},
     "output_type": "execute_result"
    }
   ],
   "source": [
    "offplayer_df = pd.concat([main_df['player_id'], main_df['player_name']], \\\n",
    "                         axis=1, keys=['PLAYER_ID', 'PLAYER'])\n",
    "offplayer_df = offplayer_df.drop_duplicates()\n",
    "offplayer_df.head()"
   ]
  },
  {
   "cell_type": "markdown",
   "metadata": {},
   "source": [
    "## Player Analysis"
   ]
  },
  {
   "cell_type": "markdown",
   "metadata": {
    "collapsed": false
   },
   "source": [
    "### Top 10 Players by Field Goal %"
   ]
  },
  {
   "cell_type": "code",
   "execution_count": 766,
   "metadata": {
    "collapsed": false
   },
   "outputs": [],
   "source": [
    "for index, row in offplayer_df.iterrows():\n",
    "    playerid = row['PLAYER_ID']\n",
    "    \n",
    "    offplayer_df.loc[(offplayer_df['PLAYER_ID'] == playerid), 'FGA'] = \\\n",
    "    main_df[(main_df['player_id'] == playerid)]['player_id'].count()\n",
    "    \n",
    "    offplayer_df.loc[(offplayer_df['PLAYER_ID'] == playerid), 'FGM'] = \\\n",
    "    main_df[(main_df['player_id'] == playerid) & (main_df['SHOT_RESULT'] == 'made')]['player_id'].count()\n",
    "    \n",
    "    offplayer_df['FG%'] = (offplayer_df['FGM'] / offplayer_df['FGA'])"
   ]
  },
  {
   "cell_type": "code",
   "execution_count": 767,
   "metadata": {
    "collapsed": false
   },
   "outputs": [
    {
     "data": {
      "text/html": [
       "<div>\n",
       "<table border=\"1\" class=\"dataframe\">\n",
       "  <thead>\n",
       "    <tr style=\"text-align: right;\">\n",
       "      <th></th>\n",
       "      <th>PLAYER_ID</th>\n",
       "      <th>PLAYER</th>\n",
       "      <th>FGA</th>\n",
       "      <th>FGM</th>\n",
       "      <th>FG%</th>\n",
       "    </tr>\n",
       "  </thead>\n",
       "  <tbody>\n",
       "    <tr>\n",
       "      <th>22432</th>\n",
       "      <td>101162</td>\n",
       "      <td>marcin gortat</td>\n",
       "      <td>570.0</td>\n",
       "      <td>311.0</td>\n",
       "      <td>0.545614</td>\n",
       "    </tr>\n",
       "    <tr>\n",
       "      <th>6443</th>\n",
       "      <td>202324</td>\n",
       "      <td>derrick favors</td>\n",
       "      <td>677.0</td>\n",
       "      <td>369.0</td>\n",
       "      <td>0.545052</td>\n",
       "    </tr>\n",
       "    <tr>\n",
       "      <th>29750</th>\n",
       "      <td>203076</td>\n",
       "      <td>anthony davis</td>\n",
       "      <td>841.0</td>\n",
       "      <td>457.0</td>\n",
       "      <td>0.543401</td>\n",
       "    </tr>\n",
       "    <tr>\n",
       "      <th>17888</th>\n",
       "      <td>201143</td>\n",
       "      <td>al horford</td>\n",
       "      <td>715.0</td>\n",
       "      <td>387.0</td>\n",
       "      <td>0.541259</td>\n",
       "    </tr>\n",
       "    <tr>\n",
       "      <th>43296</th>\n",
       "      <td>202696</td>\n",
       "      <td>nikola vucevic</td>\n",
       "      <td>902.0</td>\n",
       "      <td>480.0</td>\n",
       "      <td>0.532151</td>\n",
       "    </tr>\n",
       "    <tr>\n",
       "      <th>8675</th>\n",
       "      <td>2430</td>\n",
       "      <td>carlos boozer</td>\n",
       "      <td>620.0</td>\n",
       "      <td>319.0</td>\n",
       "      <td>0.514516</td>\n",
       "    </tr>\n",
       "    <tr>\n",
       "      <th>91618</th>\n",
       "      <td>202700</td>\n",
       "      <td>donatas motiejunas</td>\n",
       "      <td>576.0</td>\n",
       "      <td>293.0</td>\n",
       "      <td>0.508681</td>\n",
       "    </tr>\n",
       "    <tr>\n",
       "      <th>88586</th>\n",
       "      <td>203083</td>\n",
       "      <td>andre drummond</td>\n",
       "      <td>665.0</td>\n",
       "      <td>338.0</td>\n",
       "      <td>0.508271</td>\n",
       "    </tr>\n",
       "    <tr>\n",
       "      <th>66622</th>\n",
       "      <td>201609</td>\n",
       "      <td>goran dragic</td>\n",
       "      <td>753.0</td>\n",
       "      <td>378.0</td>\n",
       "      <td>0.501992</td>\n",
       "    </tr>\n",
       "    <tr>\n",
       "      <th>110077</th>\n",
       "      <td>201933</td>\n",
       "      <td>blake griffin</td>\n",
       "      <td>893.0</td>\n",
       "      <td>447.0</td>\n",
       "      <td>0.500560</td>\n",
       "    </tr>\n",
       "  </tbody>\n",
       "</table>\n",
       "</div>"
      ],
      "text/plain": [
       "        PLAYER_ID              PLAYER    FGA    FGM       FG%\n",
       "22432      101162       marcin gortat  570.0  311.0  0.545614\n",
       "6443       202324      derrick favors  677.0  369.0  0.545052\n",
       "29750      203076       anthony davis  841.0  457.0  0.543401\n",
       "17888      201143          al horford  715.0  387.0  0.541259\n",
       "43296      202696      nikola vucevic  902.0  480.0  0.532151\n",
       "8675         2430       carlos boozer  620.0  319.0  0.514516\n",
       "91618      202700  donatas motiejunas  576.0  293.0  0.508681\n",
       "88586      203083      andre drummond  665.0  338.0  0.508271\n",
       "66622      201609        goran dragic  753.0  378.0  0.501992\n",
       "110077     201933       blake griffin  893.0  447.0  0.500560"
      ]
     },
     "execution_count": 767,
     "metadata": {},
     "output_type": "execute_result"
    }
   ],
   "source": [
    "mostshooters = offplayer_df.sort_values(['FGA'], ascending=[False])\n",
    "mostshooters100 = mostshooters.head(100)\n",
    "topshooters = mostshooters100.sort_values(['FG%'], ascending=[False])\n",
    "topshooters10 = topshooters.head(10)\n",
    "topshooters10"
   ]
  },
  {
   "cell_type": "code",
   "execution_count": 768,
   "metadata": {
    "collapsed": false
   },
   "outputs": [
    {
     "data": {
      "image/png": "[encoded data removed]",
      "text/plain": [
       "<matplotlib.figure.Figure at 0x1bc29f450>"
      ]
     },
     "metadata": {},
     "output_type": "display_data"
    }
   ],
   "source": [
    "f, (ax1) = plt.subplots(1, 1, figsize=(20, 5), sharex=True)\n",
    "a = sns.barplot(topshooters10['PLAYER'], topshooters10['FG%'], palette=\"GnBu_d\", ax=ax1)\n",
    "ax1.set_ylabel(\"Sequential\")\n",
    "sns.despine(bottom=True)\n",
    "plt.setp(f.axes, yticks=[])\n",
    "plt.tight_layout(h_pad=5)"
   ]
  },
  {
   "cell_type": "markdown",
   "metadata": {},
   "source": [
    "###### The top three 3-Point Shooters by FG% in the NBA in 2014 - 15 are Marcin Gortat (Washington Wizards), Derrick Rose (Chicago Bulls) and Anthony Davis (New Orleans Pelicans)."
   ]
  },
  {
   "cell_type": "markdown",
   "metadata": {},
   "source": [
    "### Top 10 3PT Shooters by 3-Point Field Goal Percentage"
   ]
  },
  {
   "cell_type": "code",
   "execution_count": 769,
   "metadata": {
    "collapsed": false
   },
   "outputs": [],
   "source": [
    "for index, row in offplayer_df.iterrows():\n",
    "    playerid = row['PLAYER_ID']\n",
    "    \n",
    "    offplayer_df.loc[(offplayer_df['PLAYER_ID'] == playerid), '3PA'] = \\\n",
    "    main_df[(main_df['player_id'] == playerid) & (main_df['PTS_TYPE'] == 3)]['player_id'].count()\n",
    "    \n",
    "    offplayer_df.loc[(offplayer_df['PLAYER_ID'] == playerid), '3PM'] = \\\n",
    "    main_df[(main_df['player_id'] == playerid) & (main_df['SHOT_RESULT'] == 'made') & (main_df['PTS_TYPE'] == 3)]\\\n",
    "    ['player_id'].count()\n",
    "    \n",
    "    offplayer_df['3P%'] = (offplayer_df['3PM'] / offplayer_df['3PA'])"
   ]
  },
  {
   "cell_type": "code",
   "execution_count": 770,
   "metadata": {
    "collapsed": false,
    "scrolled": true
   },
   "outputs": [
    {
     "data": {
      "text/html": [
       "<div>\n",
       "<table border=\"1\" class=\"dataframe\">\n",
       "  <thead>\n",
       "    <tr style=\"text-align: right;\">\n",
       "      <th></th>\n",
       "      <th>PLAYER_ID</th>\n",
       "      <th>PLAYER</th>\n",
       "      <th>FGA</th>\n",
       "      <th>FGM</th>\n",
       "      <th>FG%</th>\n",
       "      <th>3PA</th>\n",
       "      <th>3PM</th>\n",
       "      <th>3P%</th>\n",
       "    </tr>\n",
       "  </thead>\n",
       "  <tbody>\n",
       "    <tr>\n",
       "      <th>20013</th>\n",
       "      <td>2594</td>\n",
       "      <td>kyle korver</td>\n",
       "      <td>478.0</td>\n",
       "      <td>235.0</td>\n",
       "      <td>0.491632</td>\n",
       "      <td>355.0</td>\n",
       "      <td>176.0</td>\n",
       "      <td>0.495775</td>\n",
       "    </tr>\n",
       "    <tr>\n",
       "      <th>81275</th>\n",
       "      <td>201584</td>\n",
       "      <td>courtney lee</td>\n",
       "      <td>476.0</td>\n",
       "      <td>225.0</td>\n",
       "      <td>0.472689</td>\n",
       "      <td>171.0</td>\n",
       "      <td>75.0</td>\n",
       "      <td>0.438596</td>\n",
       "    </tr>\n",
       "    <tr>\n",
       "      <th>15022</th>\n",
       "      <td>202691</td>\n",
       "      <td>klay thompson</td>\n",
       "      <td>971.0</td>\n",
       "      <td>449.0</td>\n",
       "      <td>0.462410</td>\n",
       "      <td>407.0</td>\n",
       "      <td>177.0</td>\n",
       "      <td>0.434889</td>\n",
       "    </tr>\n",
       "    <tr>\n",
       "      <th>107558</th>\n",
       "      <td>200755</td>\n",
       "      <td>jj redick</td>\n",
       "      <td>649.0</td>\n",
       "      <td>299.0</td>\n",
       "      <td>0.460709</td>\n",
       "      <td>329.0</td>\n",
       "      <td>140.0</td>\n",
       "      <td>0.425532</td>\n",
       "    </tr>\n",
       "    <tr>\n",
       "      <th>23683</th>\n",
       "      <td>203078</td>\n",
       "      <td>bradley beal</td>\n",
       "      <td>583.0</td>\n",
       "      <td>243.0</td>\n",
       "      <td>0.416810</td>\n",
       "      <td>181.0</td>\n",
       "      <td>76.0</td>\n",
       "      <td>0.419890</td>\n",
       "    </tr>\n",
       "    <tr>\n",
       "      <th>14054</th>\n",
       "      <td>201939</td>\n",
       "      <td>stephen curry</td>\n",
       "      <td>968.0</td>\n",
       "      <td>470.0</td>\n",
       "      <td>0.485537</td>\n",
       "      <td>456.0</td>\n",
       "      <td>190.0</td>\n",
       "      <td>0.416667</td>\n",
       "    </tr>\n",
       "    <tr>\n",
       "      <th>75367</th>\n",
       "      <td>201162</td>\n",
       "      <td>jared dudley</td>\n",
       "      <td>359.0</td>\n",
       "      <td>173.0</td>\n",
       "      <td>0.481894</td>\n",
       "      <td>162.0</td>\n",
       "      <td>67.0</td>\n",
       "      <td>0.413580</td>\n",
       "    </tr>\n",
       "    <tr>\n",
       "      <th>77125</th>\n",
       "      <td>203114</td>\n",
       "      <td>khris middleton</td>\n",
       "      <td>562.0</td>\n",
       "      <td>265.0</td>\n",
       "      <td>0.471530</td>\n",
       "      <td>170.0</td>\n",
       "      <td>70.0</td>\n",
       "      <td>0.411765</td>\n",
       "    </tr>\n",
       "    <tr>\n",
       "      <th>114842</th>\n",
       "      <td>201166</td>\n",
       "      <td>aaron brooks</td>\n",
       "      <td>561.0</td>\n",
       "      <td>233.0</td>\n",
       "      <td>0.415330</td>\n",
       "      <td>218.0</td>\n",
       "      <td>89.0</td>\n",
       "      <td>0.408257</td>\n",
       "    </tr>\n",
       "    <tr>\n",
       "      <th>44663</th>\n",
       "      <td>202681</td>\n",
       "      <td>kyrie irving</td>\n",
       "      <td>942.0</td>\n",
       "      <td>439.0</td>\n",
       "      <td>0.466030</td>\n",
       "      <td>297.0</td>\n",
       "      <td>120.0</td>\n",
       "      <td>0.404040</td>\n",
       "    </tr>\n",
       "  </tbody>\n",
       "</table>\n",
       "</div>"
      ],
      "text/plain": [
       "        PLAYER_ID           PLAYER    FGA    FGM       FG%    3PA    3PM  \\\n",
       "20013        2594      kyle korver  478.0  235.0  0.491632  355.0  176.0   \n",
       "81275      201584     courtney lee  476.0  225.0  0.472689  171.0   75.0   \n",
       "15022      202691    klay thompson  971.0  449.0  0.462410  407.0  177.0   \n",
       "107558     200755        jj redick  649.0  299.0  0.460709  329.0  140.0   \n",
       "23683      203078     bradley beal  583.0  243.0  0.416810  181.0   76.0   \n",
       "14054      201939    stephen curry  968.0  470.0  0.485537  456.0  190.0   \n",
       "75367      201162     jared dudley  359.0  173.0  0.481894  162.0   67.0   \n",
       "77125      203114  khris middleton  562.0  265.0  0.471530  170.0   70.0   \n",
       "114842     201166     aaron brooks  561.0  233.0  0.415330  218.0   89.0   \n",
       "44663      202681     kyrie irving  942.0  439.0  0.466030  297.0  120.0   \n",
       "\n",
       "             3P%  \n",
       "20013   0.495775  \n",
       "81275   0.438596  \n",
       "15022   0.434889  \n",
       "107558  0.425532  \n",
       "23683   0.419890  \n",
       "14054   0.416667  \n",
       "75367   0.413580  \n",
       "77125   0.411765  \n",
       "114842  0.408257  \n",
       "44663   0.404040  "
      ]
     },
     "execution_count": 770,
     "metadata": {},
     "output_type": "execute_result"
    }
   ],
   "source": [
    "mostshooters = offplayer_df.sort_values(['3PA'], ascending=[False])\n",
    "mostshooters100 = mostshooters.head(100)\n",
    "topshooters = mostshooters100.sort_values(['3P%'], ascending=[False])\n",
    "topshooters10 = topshooters.head(10)\n",
    "topshooters10"
   ]
  },
  {
   "cell_type": "code",
   "execution_count": 771,
   "metadata": {
    "collapsed": false
   },
   "outputs": [
    {
     "data": {
      "image/png": "[encoded data removed]",
      "text/plain": [
       "<matplotlib.figure.Figure at 0x1b5217fd0>"
      ]
     },
     "metadata": {},
     "output_type": "display_data"
    }
   ],
   "source": [
    "f, (ax1) = plt.subplots(1, 1, figsize=(20, 5), sharex=True)\n",
    "a = sns.barplot(topshooters10['PLAYER'], topshooters10['3P%'], palette=\"Blues\", ax=ax1)\n",
    "ax1.set_ylabel(\"FG%\", fontsize = '20')\n",
    "sns.despine(bottom=True)\n",
    "plt.setp(f.axes, yticks=[])\n",
    "plt.tight_layout(h_pad=5)"
   ]
  },
  {
   "cell_type": "markdown",
   "metadata": {},
   "source": [
    "###### The top three 3-Point Shooters by FG% in the NBA in 2014 - 15 are Kyle Krover (Atlanta Hawks), Courtney Lee (New York Knicks) and Klay Thompson (Golden State Warriors) "
   ]
  },
  {
   "cell_type": "markdown",
   "metadata": {},
   "source": [
    "### Game Winning Shots"
   ]
  },
  {
   "cell_type": "code",
   "execution_count": 772,
   "metadata": {
    "collapsed": false
   },
   "outputs": [
    {
     "data": {
      "text/plain": [
       "(5, 21)"
      ]
     },
     "execution_count": 772,
     "metadata": {},
     "output_type": "execute_result"
    }
   ],
   "source": [
    "#gwinshotsn = main_df[main_df['PERIOD'] == 4]\n",
    "#gwinshotsn = gwinshotsn[gwinshotsn['W'] == 'W']\n",
    "gwinshotsn = main_df[main_df['GAME_CLOCK'] == '11:57']\n",
    "#gwinshotsn = main_df[(main_df['FINAL_MARGIN'] == 1) | (main_df['FINAL_MARGIN'] == 2) |\\\n",
    "#                                   (main_df['FINAL_MARGIN'] == 3)]\n",
    "gwinshotsn.shape"
   ]
  },
  {
   "cell_type": "code",
   "execution_count": 773,
   "metadata": {
    "collapsed": false
   },
   "outputs": [
    {
     "data": {
      "text/plain": [
       "Index([u'GAME_ID', u'MATCHUP', u'LOCATION', u'W', u'FINAL_MARGIN',\n",
       "       u'SHOT_NUMBER', u'PERIOD', u'GAME_CLOCK', u'SHOT_CLOCK', u'DRIBBLES',\n",
       "       u'TOUCH_TIME', u'SHOT_DIST', u'PTS_TYPE', u'SHOT_RESULT',\n",
       "       u'CLOSEST_DEFENDER', u'CLOSEST_DEFENDER_PLAYER_ID', u'CLOSE_DEF_DIST',\n",
       "       u'FGM', u'PTS', u'player_name', u'player_id'],\n",
       "      dtype='object')"
      ]
     },
     "execution_count": 773,
     "metadata": {},
     "output_type": "execute_result"
    }
   ],
   "source": [
    "main_df.columns"
   ]
  },
  {
   "cell_type": "code",
   "execution_count": 774,
   "metadata": {
    "collapsed": false
   },
   "outputs": [
    {
     "data": {
      "text/plain": [
       "array([ 1,  2,  3,  4,  5,  6,  7,  8,  9, 10, 11, 12, 13, 14, 15, 16, 17,\n",
       "       18, 19, 20, 21, 22, 23, 24, 25, 26, 27, 28, 29, 30, 31, 32, 33, 34,\n",
       "       35, 36, 37, 38])"
      ]
     },
     "execution_count": 774,
     "metadata": {},
     "output_type": "execute_result"
    }
   ],
   "source": [
    "main_df.SHOT_NUMBER.unique()"
   ]
  },
  {
   "cell_type": "markdown",
   "metadata": {},
   "source": [
    "## Home and Away Analysis"
   ]
  },
  {
   "cell_type": "code",
   "execution_count": 775,
   "metadata": {
    "collapsed": false
   },
   "outputs": [],
   "source": [
    "homeshots = main_df[main_df['LOCATION'] == \"H\"]\n",
    "awayshots = main_df[main_df['LOCATION'] == \"A\"]"
   ]
  },
  {
   "cell_type": "markdown",
   "metadata": {},
   "source": [
    "### Correlation between Home and Away Field Goals"
   ]
  },
  {
   "cell_type": "code",
   "execution_count": 776,
   "metadata": {
    "collapsed": false
   },
   "outputs": [],
   "source": [
    "HFGA = len(homeshots['player_id'])\n",
    "HFGM = len(homeshots[homeshots['FGM'] == 1])\n",
    "HFGPer = float(HFGM)/HFGA\n",
    "\n",
    "AFGA = len(awayshots['player_id'])\n",
    "AFGM = len(awayshots[awayshots['FGM'] == 1])\n",
    "AFGPer = float(AFGM)/AFGA\n",
    "GameFGPer = AFGPer + HFGPer"
   ]
  },
  {
   "cell_type": "code",
   "execution_count": 777,
   "metadata": {
    "collapsed": false
   },
   "outputs": [
    {
     "data": {
      "text/plain": [
       "([<matplotlib.patches.Wedge at 0x1c3fa8e90>,\n",
       "  <matplotlib.patches.Wedge at 0x1c4072b90>],\n",
       " [<matplotlib.text.Text at 0x1c4013c10>,\n",
       "  <matplotlib.text.Text at 0x1ff0dbd90>],\n",
       " [<matplotlib.text.Text at 0x1c4049d90>,\n",
       "  <matplotlib.text.Text at 0x1c4111b10>])"
      ]
     },
     "execution_count": 777,
     "metadata": {},
     "output_type": "execute_result"
    },
    {
     "data": {
      "image/png": "[encoded data removed]",
      "text/plain": [
       "<matplotlib.figure.Figure at 0x1c2db1dd0>"
      ]
     },
     "metadata": {},
     "output_type": "display_data"
    }
   ],
   "source": [
    "labels = 'Away FG%', 'Home FG%'\n",
    "sizes = [AFGPer, GameFGPer]\n",
    "colors = ['gold', 'blue']\n",
    "explode = (0, 0.1)  # only \"explode\" the 2nd slice\n",
    "\n",
    "plt.axis('equal')\n",
    "plt.pie(sizes, explode=explode, labels=labels, colors=colors,\n",
    "        autopct='%1.1f%%', shadow=True, startangle=90)"
   ]
  },
  {
   "cell_type": "markdown",
   "metadata": {},
   "source": [
    "###### Calculating Home and Away FG%"
   ]
  },
  {
   "cell_type": "code",
   "execution_count": 778,
   "metadata": {
    "collapsed": false
   },
   "outputs": [],
   "source": [
    "for index, row in offplayer_df.iterrows():\n",
    "    playerid = row['PLAYER_ID']\n",
    "    \n",
    "    offplayer_df.loc[(offplayer_df['PLAYER_ID'] == playerid), 'HFGA'] = \\\n",
    "    homeshots[(homeshots['player_id'] == playerid)]['player_id'].count()\n",
    "    \n",
    "    offplayer_df.loc[(offplayer_df['PLAYER_ID'] == playerid), 'HFGM'] = \\\n",
    "    homeshots[(homeshots['player_id'] == playerid) & (homeshots['SHOT_RESULT'] == 'made')]['player_id'].count()\n",
    "    \n",
    "    offplayer_df['HFG%'] = (offplayer_df['HFGM'] / offplayer_df['HFGA'])\n",
    "    \n",
    "for index, row in offplayer_df.iterrows():\n",
    "    playerid = row['PLAYER_ID']\n",
    "    \n",
    "    offplayer_df.loc[(offplayer_df['PLAYER_ID'] == playerid), 'AFGA'] = \\\n",
    "    awayshots[(awayshots['player_id'] == playerid)]['player_id'].count()\n",
    "    \n",
    "    offplayer_df.loc[(offplayer_df['PLAYER_ID'] == playerid), 'AFGM'] = \\\n",
    "    awayshots[(awayshots['player_id'] == playerid) & (awayshots['SHOT_RESULT'] == 'made')]['player_id'].count()\n",
    "    \n",
    "    offplayer_df['AFG%'] = (offplayer_df['AFGM'] / offplayer_df['AFGA'])"
   ]
  },
  {
   "cell_type": "code",
   "execution_count": 779,
   "metadata": {
    "collapsed": false
   },
   "outputs": [],
   "source": [
    "offplayer_df0 = offplayer_df.dropna(0)\n",
    "offplayer_df0 = offplayer_df0[offplayer_df0['FG%'] < 0.7]"
   ]
  },
  {
   "cell_type": "code",
   "execution_count": 780,
   "metadata": {
    "collapsed": false
   },
   "outputs": [
    {
     "data": {
      "text/plain": [
       "<matplotlib.axes._subplots.AxesSubplot at 0x1c4c27e90>"
      ]
     },
     "execution_count": 780,
     "metadata": {},
     "output_type": "execute_result"
    },
    {
     "data": {
      "image/png": "[encoded data removed]",
      "text/plain": [
       "<matplotlib.figure.Figure at 0x1c2f8cb50>"
      ]
     },
     "metadata": {},
     "output_type": "display_data"
    }
   ],
   "source": [
    "fig, (axis1,axis2) = plt.subplots(1,2, sharex=True,figsize=(16,8))\n",
    "offplayer_df0.plot('AFG%', 'FG%', kind= 'scatter', ax=axis1, color = 'r')\n",
    "offplayer_df0.plot('HFG%', 'FG%', kind= 'scatter', ax=axis2, color = 'b')\n",
    "\n",
    "#sns.set(style=\"white\", palette=\"muted\", color_codes=True)\n",
    "\n",
    "# Set up the matplotlib figure\n",
    "#f, axes = plt.plot(offplayer_df0['AFG%'], offplayer_df0['HFG%'])\n",
    "#sns.despine(left=True)\n",
    "\n",
    "# Plot a filled kernel density estimate\n",
    "#sns.distplot(offplayer_df0['AFG%'], hist=False, color=\"b\", kde_kws={\"shade\": True}, ax=axes[1, 0])\n",
    "\n",
    "#plt.setp(axes, yticks=[])\n",
    "#plt.tight_layout()"
   ]
  },
  {
   "cell_type": "markdown",
   "metadata": {},
   "source": [
    "###### The Graph clearly shows a higher correlation between the Home Field Goals Percentage vs the overall Field Goal Percentage"
   ]
  },
  {
   "cell_type": "code",
   "execution_count": 781,
   "metadata": {
    "collapsed": false
   },
   "outputs": [
    {
     "data": {
      "text/html": [
       "<div>\n",
       "<table border=\"1\" class=\"dataframe\">\n",
       "  <thead>\n",
       "    <tr style=\"text-align: right;\">\n",
       "      <th></th>\n",
       "      <th>GAME_ID</th>\n",
       "      <th>MATCHUP</th>\n",
       "      <th>LOCATION</th>\n",
       "      <th>W</th>\n",
       "      <th>FINAL_MARGIN</th>\n",
       "      <th>SHOT_NUMBER</th>\n",
       "      <th>PERIOD</th>\n",
       "      <th>GAME_CLOCK</th>\n",
       "      <th>SHOT_CLOCK</th>\n",
       "      <th>DRIBBLES</th>\n",
       "      <th>...</th>\n",
       "      <th>PTS_TYPE</th>\n",
       "      <th>SHOT_RESULT</th>\n",
       "      <th>CLOSEST_DEFENDER</th>\n",
       "      <th>CLOSEST_DEFENDER_PLAYER_ID</th>\n",
       "      <th>CLOSE_DEF_DIST</th>\n",
       "      <th>FGM</th>\n",
       "      <th>PTS</th>\n",
       "      <th>player_name</th>\n",
       "      <th>player_id</th>\n",
       "      <th>MONTH</th>\n",
       "    </tr>\n",
       "  </thead>\n",
       "  <tbody>\n",
       "    <tr>\n",
       "      <th>0</th>\n",
       "      <td>21400899</td>\n",
       "      <td>MAR 04, 2015 - CHA @ BKN</td>\n",
       "      <td>A</td>\n",
       "      <td>W</td>\n",
       "      <td>24</td>\n",
       "      <td>1</td>\n",
       "      <td>1</td>\n",
       "      <td>1:09</td>\n",
       "      <td>10.8</td>\n",
       "      <td>2</td>\n",
       "      <td>...</td>\n",
       "      <td>2</td>\n",
       "      <td>made</td>\n",
       "      <td>Anderson, Alan</td>\n",
       "      <td>101187</td>\n",
       "      <td>1.3</td>\n",
       "      <td>1</td>\n",
       "      <td>2</td>\n",
       "      <td>brian roberts</td>\n",
       "      <td>203148</td>\n",
       "      <td>MAR</td>\n",
       "    </tr>\n",
       "    <tr>\n",
       "      <th>1</th>\n",
       "      <td>21400899</td>\n",
       "      <td>MAR 04, 2015 - CHA @ BKN</td>\n",
       "      <td>A</td>\n",
       "      <td>W</td>\n",
       "      <td>24</td>\n",
       "      <td>2</td>\n",
       "      <td>1</td>\n",
       "      <td>0:14</td>\n",
       "      <td>3.4</td>\n",
       "      <td>0</td>\n",
       "      <td>...</td>\n",
       "      <td>3</td>\n",
       "      <td>missed</td>\n",
       "      <td>Bogdanovic, Bojan</td>\n",
       "      <td>202711</td>\n",
       "      <td>6.1</td>\n",
       "      <td>0</td>\n",
       "      <td>0</td>\n",
       "      <td>brian roberts</td>\n",
       "      <td>203148</td>\n",
       "      <td>MAR</td>\n",
       "    </tr>\n",
       "    <tr>\n",
       "      <th>2</th>\n",
       "      <td>21400899</td>\n",
       "      <td>MAR 04, 2015 - CHA @ BKN</td>\n",
       "      <td>A</td>\n",
       "      <td>W</td>\n",
       "      <td>24</td>\n",
       "      <td>3</td>\n",
       "      <td>1</td>\n",
       "      <td>0:00</td>\n",
       "      <td>0.0</td>\n",
       "      <td>3</td>\n",
       "      <td>...</td>\n",
       "      <td>2</td>\n",
       "      <td>missed</td>\n",
       "      <td>Bogdanovic, Bojan</td>\n",
       "      <td>202711</td>\n",
       "      <td>0.9</td>\n",
       "      <td>0</td>\n",
       "      <td>0</td>\n",
       "      <td>brian roberts</td>\n",
       "      <td>203148</td>\n",
       "      <td>MAR</td>\n",
       "    </tr>\n",
       "    <tr>\n",
       "      <th>3</th>\n",
       "      <td>21400899</td>\n",
       "      <td>MAR 04, 2015 - CHA @ BKN</td>\n",
       "      <td>A</td>\n",
       "      <td>W</td>\n",
       "      <td>24</td>\n",
       "      <td>4</td>\n",
       "      <td>2</td>\n",
       "      <td>11:47</td>\n",
       "      <td>10.3</td>\n",
       "      <td>2</td>\n",
       "      <td>...</td>\n",
       "      <td>2</td>\n",
       "      <td>missed</td>\n",
       "      <td>Brown, Markel</td>\n",
       "      <td>203900</td>\n",
       "      <td>3.4</td>\n",
       "      <td>0</td>\n",
       "      <td>0</td>\n",
       "      <td>brian roberts</td>\n",
       "      <td>203148</td>\n",
       "      <td>MAR</td>\n",
       "    </tr>\n",
       "    <tr>\n",
       "      <th>4</th>\n",
       "      <td>21400899</td>\n",
       "      <td>MAR 04, 2015 - CHA @ BKN</td>\n",
       "      <td>A</td>\n",
       "      <td>W</td>\n",
       "      <td>24</td>\n",
       "      <td>5</td>\n",
       "      <td>2</td>\n",
       "      <td>10:34</td>\n",
       "      <td>10.9</td>\n",
       "      <td>2</td>\n",
       "      <td>...</td>\n",
       "      <td>2</td>\n",
       "      <td>missed</td>\n",
       "      <td>Young, Thaddeus</td>\n",
       "      <td>201152</td>\n",
       "      <td>1.1</td>\n",
       "      <td>0</td>\n",
       "      <td>0</td>\n",
       "      <td>brian roberts</td>\n",
       "      <td>203148</td>\n",
       "      <td>MAR</td>\n",
       "    </tr>\n",
       "  </tbody>\n",
       "</table>\n",
       "<p>5 rows × 22 columns</p>\n",
       "</div>"
      ],
      "text/plain": [
       "    GAME_ID                   MATCHUP LOCATION  W  FINAL_MARGIN  SHOT_NUMBER  \\\n",
       "0  21400899  MAR 04, 2015 - CHA @ BKN        A  W            24            1   \n",
       "1  21400899  MAR 04, 2015 - CHA @ BKN        A  W            24            2   \n",
       "2  21400899  MAR 04, 2015 - CHA @ BKN        A  W            24            3   \n",
       "3  21400899  MAR 04, 2015 - CHA @ BKN        A  W            24            4   \n",
       "4  21400899  MAR 04, 2015 - CHA @ BKN        A  W            24            5   \n",
       "\n",
       "   PERIOD GAME_CLOCK  SHOT_CLOCK  DRIBBLES  ...   PTS_TYPE  SHOT_RESULT  \\\n",
       "0       1       1:09        10.8         2  ...          2         made   \n",
       "1       1       0:14         3.4         0  ...          3       missed   \n",
       "2       1       0:00         0.0         3  ...          2       missed   \n",
       "3       2      11:47        10.3         2  ...          2       missed   \n",
       "4       2      10:34        10.9         2  ...          2       missed   \n",
       "\n",
       "    CLOSEST_DEFENDER CLOSEST_DEFENDER_PLAYER_ID CLOSE_DEF_DIST  FGM  PTS  \\\n",
       "0     Anderson, Alan                     101187            1.3    1    2   \n",
       "1  Bogdanovic, Bojan                     202711            6.1    0    0   \n",
       "2  Bogdanovic, Bojan                     202711            0.9    0    0   \n",
       "3      Brown, Markel                     203900            3.4    0    0   \n",
       "4    Young, Thaddeus                     201152            1.1    0    0   \n",
       "\n",
       "     player_name  player_id MONTH  \n",
       "0  brian roberts     203148   MAR  \n",
       "1  brian roberts     203148   MAR  \n",
       "2  brian roberts     203148   MAR  \n",
       "3  brian roberts     203148   MAR  \n",
       "4  brian roberts     203148   MAR  \n",
       "\n",
       "[5 rows x 22 columns]"
      ]
     },
     "execution_count": 781,
     "metadata": {},
     "output_type": "execute_result"
    }
   ],
   "source": [
    "main_df['MONTH'] = main_df['MATCHUP'].apply(lambda x:x.split()[0])\n",
    "main_df.head()"
   ]
  },
  {
   "cell_type": "code",
   "execution_count": 782,
   "metadata": {
    "collapsed": false
   },
   "outputs": [
    {
     "data": {
      "text/plain": [
       "array(['MAR', 'FEB', 'JAN', 'DEC', 'NOV', 'OCT'], dtype=object)"
      ]
     },
     "execution_count": 782,
     "metadata": {},
     "output_type": "execute_result"
    }
   ],
   "source": [
    "main_df.MONTH.unique()"
   ]
  },
  {
   "cell_type": "code",
   "execution_count": 783,
   "metadata": {
    "collapsed": false
   },
   "outputs": [
    {
     "data": {
      "text/html": [
       "<div>\n",
       "<table border=\"1\" class=\"dataframe\">\n",
       "  <thead>\n",
       "    <tr style=\"text-align: right;\">\n",
       "      <th></th>\n",
       "      <th>GAME_ID</th>\n",
       "      <th>MATCHUP</th>\n",
       "      <th>LOCATION</th>\n",
       "      <th>W</th>\n",
       "      <th>FINAL_MARGIN</th>\n",
       "      <th>SHOT_NUMBER</th>\n",
       "      <th>PERIOD</th>\n",
       "      <th>GAME_CLOCK</th>\n",
       "      <th>SHOT_CLOCK</th>\n",
       "      <th>DRIBBLES</th>\n",
       "      <th>...</th>\n",
       "      <th>PTS_TYPE</th>\n",
       "      <th>SHOT_RESULT</th>\n",
       "      <th>CLOSEST_DEFENDER</th>\n",
       "      <th>CLOSEST_DEFENDER_PLAYER_ID</th>\n",
       "      <th>CLOSE_DEF_DIST</th>\n",
       "      <th>FGM</th>\n",
       "      <th>PTS</th>\n",
       "      <th>player_name</th>\n",
       "      <th>player_id</th>\n",
       "      <th>MONTH</th>\n",
       "    </tr>\n",
       "  </thead>\n",
       "  <tbody>\n",
       "    <tr>\n",
       "      <th>0</th>\n",
       "      <td>21400899</td>\n",
       "      <td>MAR 04, 2015 - CHA @ BKN</td>\n",
       "      <td>A</td>\n",
       "      <td>W</td>\n",
       "      <td>24</td>\n",
       "      <td>1</td>\n",
       "      <td>1</td>\n",
       "      <td>1:09</td>\n",
       "      <td>10.8</td>\n",
       "      <td>2</td>\n",
       "      <td>...</td>\n",
       "      <td>2</td>\n",
       "      <td>made</td>\n",
       "      <td>Anderson, Alan</td>\n",
       "      <td>101187</td>\n",
       "      <td>1.3</td>\n",
       "      <td>1</td>\n",
       "      <td>2</td>\n",
       "      <td>brian roberts</td>\n",
       "      <td>203148</td>\n",
       "      <td>6</td>\n",
       "    </tr>\n",
       "  </tbody>\n",
       "</table>\n",
       "<p>1 rows × 22 columns</p>\n",
       "</div>"
      ],
      "text/plain": [
       "    GAME_ID                   MATCHUP LOCATION  W  FINAL_MARGIN  SHOT_NUMBER  \\\n",
       "0  21400899  MAR 04, 2015 - CHA @ BKN        A  W            24            1   \n",
       "\n",
       "   PERIOD GAME_CLOCK  SHOT_CLOCK  DRIBBLES  ...   PTS_TYPE  SHOT_RESULT  \\\n",
       "0       1       1:09        10.8         2  ...          2         made   \n",
       "\n",
       "   CLOSEST_DEFENDER CLOSEST_DEFENDER_PLAYER_ID CLOSE_DEF_DIST  FGM  PTS  \\\n",
       "0    Anderson, Alan                     101187            1.3    1    2   \n",
       "\n",
       "     player_name  player_id MONTH  \n",
       "0  brian roberts     203148     6  \n",
       "\n",
       "[1 rows x 22 columns]"
      ]
     },
     "execution_count": 783,
     "metadata": {},
     "output_type": "execute_result"
    }
   ],
   "source": [
    "main_df = main_df.replace(to_replace = 'OCT', value = 1)\n",
    "main_df = main_df.replace(to_replace = 'NOV', value = 2)\n",
    "main_df = main_df.replace(to_replace = 'DEC', value = 3)\n",
    "main_df = main_df.replace(to_replace = 'JAN', value = 4)\n",
    "main_df = main_df.replace(to_replace = 'FEB', value = 5)\n",
    "main_df = main_df.replace(to_replace = 'MAR', value = 6)\n",
    "main_df.head(1)"
   ]
  },
  {
   "cell_type": "code",
   "execution_count": 784,
   "metadata": {
    "collapsed": false
   },
   "outputs": [
    {
     "data": {
      "text/html": [
       "<div>\n",
       "<table border=\"1\" class=\"dataframe\">\n",
       "  <thead>\n",
       "    <tr style=\"text-align: right;\">\n",
       "      <th></th>\n",
       "      <th>MONTH</th>\n",
       "      <th>player_id</th>\n",
       "      <th>PTS</th>\n",
       "    </tr>\n",
       "  </thead>\n",
       "  <tbody>\n",
       "    <tr>\n",
       "      <th>0</th>\n",
       "      <td>1</td>\n",
       "      <td>708</td>\n",
       "      <td>10</td>\n",
       "    </tr>\n",
       "    <tr>\n",
       "      <th>1</th>\n",
       "      <td>1</td>\n",
       "      <td>977</td>\n",
       "      <td>49</td>\n",
       "    </tr>\n",
       "    <tr>\n",
       "      <th>2</th>\n",
       "      <td>1</td>\n",
       "      <td>1495</td>\n",
       "      <td>22</td>\n",
       "    </tr>\n",
       "    <tr>\n",
       "      <th>3</th>\n",
       "      <td>1</td>\n",
       "      <td>1713</td>\n",
       "      <td>5</td>\n",
       "    </tr>\n",
       "    <tr>\n",
       "      <th>4</th>\n",
       "      <td>1</td>\n",
       "      <td>1717</td>\n",
       "      <td>34</td>\n",
       "    </tr>\n",
       "  </tbody>\n",
       "</table>\n",
       "</div>"
      ],
      "text/plain": [
       "   MONTH  player_id  PTS\n",
       "0      1        708   10\n",
       "1      1        977   49\n",
       "2      1       1495   22\n",
       "3      1       1713    5\n",
       "4      1       1717   34"
      ]
     },
     "execution_count": 784,
     "metadata": {},
     "output_type": "execute_result"
    }
   ],
   "source": [
    "groupedpoints = pd.DataFrame(main_df.groupby(['MONTH', 'player_id'])['PTS'].sum())\n",
    "groupedpoints = groupedpoints.reset_index()\n",
    "\n",
    "#monthmaxpoint = groupedpoints.sort_values(['PTS'], ascending=[False])\n",
    "groupedpoints.head()"
   ]
  },
  {
   "cell_type": "code",
   "execution_count": 785,
   "metadata": {
    "collapsed": false
   },
   "outputs": [
    {
     "data": {
      "text/plain": [
       "Index([u'MONTH_x', u'player_id', u'PTS_x', u'GAME_ID', u'MATCHUP', u'LOCATION',\n",
       "       u'W', u'FINAL_MARGIN', u'SHOT_NUMBER', u'PERIOD', u'GAME_CLOCK',\n",
       "       u'SHOT_CLOCK', u'DRIBBLES', u'TOUCH_TIME', u'SHOT_DIST', u'PTS_TYPE',\n",
       "       u'SHOT_RESULT', u'CLOSEST_DEFENDER', u'CLOSEST_DEFENDER_PLAYER_ID',\n",
       "       u'CLOSE_DEF_DIST', u'FGM', u'PTS_y', u'player_name', u'MONTH_y'],\n",
       "      dtype='object')"
      ]
     },
     "execution_count": 785,
     "metadata": {},
     "output_type": "execute_result"
    }
   ],
   "source": [
    "mergenames = pd.merge(groupedpoints, main_df, how='left', on='player_id')\n",
    "mergenames.columns"
   ]
  },
  {
   "cell_type": "code",
   "execution_count": 786,
   "metadata": {
    "collapsed": true
   },
   "outputs": [],
   "source": [
    "cavsmonthsname = mergenames[(mergenames['player_id'] == 202681) | (mergenames['player_id'] == 203521) | \\\n",
    "                   (mergenames['player_id'] == 203925) | (mergenames['player_id'] == 2544) | \\\n",
    "                  (mergenames['player_id'] == 201567) | (mergenames['player_id'] == 1890) | \\\n",
    "                  (mergenames['player_id'] == 2034) | (mergenames['player_id'] == 202389) | \\\n",
    "                  (mergenames['player_id'] == 2570) | (mergenames['player_id'] == 202684) ] "
   ]
  },
  {
   "cell_type": "code",
   "execution_count": 787,
   "metadata": {
    "collapsed": false
   },
   "outputs": [],
   "source": [
    "cavsmonths = groupedpoints[(groupedpoints['player_id'] == 202681) | (groupedpoints['player_id'] == 203521) | \\\n",
    "                   (groupedpoints['player_id'] == 203925) | (groupedpoints['player_id'] == 2544) | \\\n",
    "                  (groupedpoints['player_id'] == 201567) | (groupedpoints['player_id'] == 1890) | \\\n",
    "                  (groupedpoints['player_id'] == 2034) | (groupedpoints['player_id'] == 202389) | \\\n",
    "                  (groupedpoints['player_id'] == 2570) | (groupedpoints['player_id'] == 202684) ] \n",
    "\n",
    "#player_id = "
   ]
  },
  {
   "cell_type": "code",
   "execution_count": 788,
   "metadata": {
    "collapsed": false
   },
   "outputs": [
    {
     "data": {
      "image/png": "[encoded data removed]",
      "text/plain": [
       "<matplotlib.figure.Figure at 0x1c68cef50>"
      ]
     },
     "metadata": {},
     "output_type": "display_data"
    }
   ],
   "source": [
    "a = sns.factorplot(data = cavsmonths, x='MONTH', y='PTS', hue='player_id', size=6, aspect=2)"
   ]
  },
  {
   "cell_type": "markdown",
   "metadata": {},
   "source": [
    "###### This analysis shows the drop in field goal points in the Season and therefore a possible trend to the loss of Cleveland Cavaliers against the Warriors in 2014 - 2015 playoffs."
   ]
  },
  {
   "cell_type": "markdown",
   "metadata": {},
   "source": [
    "## Team Analysis of Cleveland Cavaliers "
   ]
  },
  {
   "cell_type": "markdown",
   "metadata": {},
   "source": [
    "### All Team Members of the Cavs who took a shot "
   ]
  },
  {
   "cell_type": "markdown",
   "metadata": {},
   "source": [
    "###### All Shots by the Cavs"
   ]
  },
  {
   "cell_type": "code",
   "execution_count": 789,
   "metadata": {
    "collapsed": false
   },
   "outputs": [],
   "source": [
    "allcleshots = main_df[main_df['MATCHUP'].str.contains(\"CLE\")]"
   ]
  },
  {
   "cell_type": "markdown",
   "metadata": {},
   "source": [
    "###### Finding all Cavs Team Members "
   ]
  },
  {
   "cell_type": "code",
   "execution_count": 790,
   "metadata": {
    "collapsed": false
   },
   "outputs": [
    {
     "name": "stderr",
     "output_type": "stream",
     "text": [
      "/Users/JohnAntony/Library/Enthought/Canopy_64bit/User/lib/python2.7/site-packages/ipykernel/__main__.py:1: SettingWithCopyWarning: \n",
      "A value is trying to be set on a copy of a slice from a DataFrame.\n",
      "Try using .loc[row_indexer,col_indexer] = value instead\n",
      "\n",
      "See the caveats in the documentation: http://pandas.pydata.org/pandas-docs/stable/indexing.html#indexing-view-versus-copy\n",
      "  if __name__ == '__main__':\n",
      "/Users/JohnAntony/Library/Enthought/Canopy_64bit/User/lib/python2.7/site-packages/ipykernel/__main__.py:2: SettingWithCopyWarning: \n",
      "A value is trying to be set on a copy of a slice from a DataFrame.\n",
      "Try using .loc[row_indexer,col_indexer] = value instead\n",
      "\n",
      "See the caveats in the documentation: http://pandas.pydata.org/pandas-docs/stable/indexing.html#indexing-view-versus-copy\n",
      "  from ipykernel import kernelapp as app\n"
     ]
    }
   ],
   "source": [
    "allcleshots['AWAY'] = allcleshots['MATCHUP'].apply(lambda x:x.split()[4])\n",
    "allcleshots['HOME'] = allcleshots['MATCHUP'].apply(lambda x:x.split()[6])"
   ]
  },
  {
   "cell_type": "code",
   "execution_count": 791,
   "metadata": {
    "collapsed": false
   },
   "outputs": [
    {
     "data": {
      "text/plain": [
       "array(['matthew dellavedova', 'kyrie irving', 'shawn marion',\n",
       "       'lebron james', 'tristan thompson', 'kevin love', 'mike miller',\n",
       "       'joe harris', 'timofey mozgov', 'kendrick perkins'], dtype=object)"
      ]
     },
     "execution_count": 791,
     "metadata": {},
     "output_type": "execute_result"
    }
   ],
   "source": [
    "cavsshots = main_df[(main_df['player_id'] == 202681) | (main_df['player_id'] == 203521) | \\\n",
    "                   (main_df['player_id'] == 203925) | (main_df['player_id'] == 2544) | \\\n",
    "                  (main_df['player_id'] == 201567) | (main_df['player_id'] == 1890) | \\\n",
    "                  (main_df['player_id'] == 2034) | (main_df['player_id'] == 202389) | \\\n",
    "                  (main_df['player_id'] == 2570) | (main_df['player_id'] == 202684) ] \n",
    "\n",
    "cavsshots.player_name.unique()"
   ]
  },
  {
   "cell_type": "code",
   "execution_count": 792,
   "metadata": {
    "collapsed": false
   },
   "outputs": [
    {
     "data": {
      "text/plain": [
       "array([0, 1])"
      ]
     },
     "execution_count": 792,
     "metadata": {},
     "output_type": "execute_result"
    }
   ],
   "source": [
    "cavsshots = cavsshots.replace(to_replace = 'missed', value = 0)\n",
    "cavsshots = cavsshots.replace(to_replace = 'made', value = 1)\n",
    "\n",
    "cavsshots.SHOT_RESULT.unique()"
   ]
  },
  {
   "cell_type": "markdown",
   "metadata": {},
   "source": [
    "### Correlation between the shot distance and the shot result"
   ]
  },
  {
   "cell_type": "code",
   "execution_count": 793,
   "metadata": {
    "collapsed": false
   },
   "outputs": [
    {
     "data": {
      "text/html": [
       "<div>\n",
       "<table border=\"1\" class=\"dataframe\">\n",
       "  <thead>\n",
       "    <tr style=\"text-align: right;\">\n",
       "      <th></th>\n",
       "      <th>SHOT_DIST</th>\n",
       "      <th>SHOT_RESULT</th>\n",
       "    </tr>\n",
       "  </thead>\n",
       "  <tbody>\n",
       "    <tr>\n",
       "      <th>SHOT_DIST</th>\n",
       "      <td>1.000000</td>\n",
       "      <td>-0.190821</td>\n",
       "    </tr>\n",
       "    <tr>\n",
       "      <th>SHOT_RESULT</th>\n",
       "      <td>-0.190821</td>\n",
       "      <td>1.000000</td>\n",
       "    </tr>\n",
       "  </tbody>\n",
       "</table>\n",
       "</div>"
      ],
      "text/plain": [
       "             SHOT_DIST  SHOT_RESULT\n",
       "SHOT_DIST     1.000000    -0.190821\n",
       "SHOT_RESULT  -0.190821     1.000000"
      ]
     },
     "execution_count": 793,
     "metadata": {},
     "output_type": "execute_result"
    }
   ],
   "source": [
    "cavscorr1 = pd.concat([cavsshots['SHOT_DIST'], cavsshots['SHOT_RESULT']], \\\n",
    "                         axis=1, keys=['SHOT_DIST', 'SHOT_RESULT'])\n",
    "cavscorr1.corr()"
   ]
  },
  {
   "cell_type": "code",
   "execution_count": 794,
   "metadata": {
    "collapsed": false
   },
   "outputs": [
    {
     "data": {
      "text/plain": [
       "<matplotlib.axes._subplots.AxesSubplot at 0x1773080d0>"
      ]
     },
     "execution_count": 794,
     "metadata": {},
     "output_type": "execute_result"
    },
    {
     "data": {
      "image/png": "[encoded data removed]",
      "text/plain": [
       "<matplotlib.figure.Figure at 0x1c6dac850>"
      ]
     },
     "metadata": {},
     "output_type": "display_data"
    }
   ],
   "source": [
    "fig, (axis1,axis2) = plt.subplots(1,2, sharex=True,figsize=(16,8))\n",
    "cavscorr1.plot('SHOT_RESULT', 'SHOT_DIST', kind= 'bar', ax=axis1, color = 'r')\n",
    "cavsshots.plot('DRIBBLES', 'PERIOD', kind= 'bar', ax=axis1, color = 'r')"
   ]
  },
  {
   "cell_type": "code",
   "execution_count": null,
   "metadata": {
    "collapsed": true
   },
   "outputs": [],
   "source": []
  }
 ],
 "metadata": {
  "kernelspec": {
   "display_name": "Python 2",
   "language": "python",
   "name": "python2"
  },
  "language_info": {
   "codemirror_mode": {
    "name": "ipython",
    "version": 2
   },
   "file_extension": ".py",
   "mimetype": "text/x-python",
   "name": "python",
   "nbconvert_exporter": "python",
   "pygments_lexer": "ipython2",
   "version": "2.7.11"
  }
 },
 "nbformat": 4,
 "nbformat_minor": 0
}
